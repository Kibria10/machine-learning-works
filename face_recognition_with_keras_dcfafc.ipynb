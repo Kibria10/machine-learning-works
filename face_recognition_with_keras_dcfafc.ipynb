{
  "nbformat": 4,
  "nbformat_minor": 0,
  "metadata": {
    "kernelspec": {
      "language": "python",
      "display_name": "Python 3",
      "name": "python3"
    },
    "language_info": {
      "pygments_lexer": "ipython3",
      "nbconvert_exporter": "python",
      "version": "3.6.4",
      "file_extension": ".py",
      "codemirror_mode": {
        "name": "ipython",
        "version": 3
      },
      "name": "python",
      "mimetype": "text/x-python"
    },
    "colab": {
      "name": "face-recognition-with-keras-dcfafc.ipynb",
      "provenance": [],
      "collapsed_sections": []
    },
    "accelerator": "GPU"
  },
  "cells": [
    {
      "cell_type": "markdown",
      "metadata": {
        "id": "MuEKPA-lwjjL"
      },
      "source": [
        "I will construct three model and use three targets:\n",
        "* Age\n",
        "* Gender\n",
        "* Ethnicity\n",
        "\n",
        "After training models I'm going to create a function which will predict these three parameters by photo."
      ]
    },
    {
      "cell_type": "code",
      "metadata": {
        "_cell_guid": "b1076dfc-b9ad-4769-8c92-a6c4dae69d19",
        "_uuid": "8f2839f25d086af736a60e9eeb907d3b93b6e0e5",
        "trusted": true,
        "id": "jjyOTQZnwjjO"
      },
      "source": [
        "import numpy as np \n",
        "import pandas as pd \n",
        "import matplotlib.pyplot as plt\n",
        "import seaborn as sns\n",
        "sns.set()\n",
        "\n",
        "from keras.models import Sequential\n",
        "from keras.layers import Conv2D, Dropout, BatchNormalization, Flatten, Dense, MaxPooling2D\n",
        "from tensorflow.keras.utils import to_categorical\n",
        "from keras.callbacks import EarlyStopping, ReduceLROnPlateau\n",
        "from tensorflow.keras.optimizers import Adam\n",
        "\n",
        "from sklearn.metrics import mean_absolute_error, confusion_matrix, classification_report\n",
        "from sklearn.model_selection import train_test_split"
      ],
      "execution_count": 67,
      "outputs": []
    },
    {
      "cell_type": "markdown",
      "metadata": {
        "id": "gggk_lTTwjjQ"
      },
      "source": [
        "So, there are three targets:\n",
        "\n",
        "Age: range from 1 to 116 <br>\n",
        "Ethnicity: 0 - White, 1 - Black, 2 - Asian, 3 - Indian, 4 - Other  <br>\n",
        "Gender: 0 - male, 1 - female <br>"
      ]
    },
    {
      "cell_type": "code",
      "metadata": {
        "_cell_guid": "79c7e3d0-c299-4dcb-8224-4455121ee9b0",
        "_uuid": "d629ff2d2480ee46fbb7e2d37f6b5fab8052498a",
        "trusted": true,
        "colab": {
          "base_uri": "https://localhost:8080/"
        },
        "id": "4RhFnOrcwjjQ",
        "outputId": "e71cd41a-6589-4c92-cb45-815cc15f395b"
      },
      "source": [
        "from google.colab import drive\n",
        "drive.mount('/content/drive')\n",
        "df = pd.read_csv('drive/MyDrive/datasets/age_gender.csv')"
      ],
      "execution_count": 68,
      "outputs": [
        {
          "output_type": "stream",
          "name": "stdout",
          "text": [
            "Drive already mounted at /content/drive; to attempt to forcibly remount, call drive.mount(\"/content/drive\", force_remount=True).\n"
          ]
        }
      ]
    },
    {
      "cell_type": "code",
      "metadata": {
        "id": "m7alUK7axKK_"
      },
      "source": [
        ""
      ],
      "execution_count": 68,
      "outputs": []
    },
    {
      "cell_type": "code",
      "metadata": {
        "trusted": true,
        "colab": {
          "base_uri": "https://localhost:8080/",
          "height": 204
        },
        "id": "FHeJeEDCwjjR",
        "outputId": "26cb3654-5a36-4263-878f-451ec801c008"
      },
      "source": [
        "df.head()"
      ],
      "execution_count": 69,
      "outputs": [
        {
          "output_type": "execute_result",
          "data": {
            "text/html": [
              "<div>\n",
              "<style scoped>\n",
              "    .dataframe tbody tr th:only-of-type {\n",
              "        vertical-align: middle;\n",
              "    }\n",
              "\n",
              "    .dataframe tbody tr th {\n",
              "        vertical-align: top;\n",
              "    }\n",
              "\n",
              "    .dataframe thead th {\n",
              "        text-align: right;\n",
              "    }\n",
              "</style>\n",
              "<table border=\"1\" class=\"dataframe\">\n",
              "  <thead>\n",
              "    <tr style=\"text-align: right;\">\n",
              "      <th></th>\n",
              "      <th>age</th>\n",
              "      <th>ethnicity</th>\n",
              "      <th>gender</th>\n",
              "      <th>img_name</th>\n",
              "      <th>pixels</th>\n",
              "    </tr>\n",
              "  </thead>\n",
              "  <tbody>\n",
              "    <tr>\n",
              "      <th>0</th>\n",
              "      <td>1</td>\n",
              "      <td>2</td>\n",
              "      <td>0</td>\n",
              "      <td>20161219203650636.jpg.chip.jpg</td>\n",
              "      <td>129 128 128 126 127 130 133 135 139 142 145 14...</td>\n",
              "    </tr>\n",
              "    <tr>\n",
              "      <th>1</th>\n",
              "      <td>1</td>\n",
              "      <td>2</td>\n",
              "      <td>0</td>\n",
              "      <td>20161219222752047.jpg.chip.jpg</td>\n",
              "      <td>164 74 111 168 169 171 175 182 184 188 193 199...</td>\n",
              "    </tr>\n",
              "    <tr>\n",
              "      <th>2</th>\n",
              "      <td>1</td>\n",
              "      <td>2</td>\n",
              "      <td>0</td>\n",
              "      <td>20161219222832191.jpg.chip.jpg</td>\n",
              "      <td>67 70 71 70 69 67 70 79 90 103 116 132 145 155...</td>\n",
              "    </tr>\n",
              "    <tr>\n",
              "      <th>3</th>\n",
              "      <td>1</td>\n",
              "      <td>2</td>\n",
              "      <td>0</td>\n",
              "      <td>20161220144911423.jpg.chip.jpg</td>\n",
              "      <td>193 197 198 200 199 200 202 203 204 205 208 21...</td>\n",
              "    </tr>\n",
              "    <tr>\n",
              "      <th>4</th>\n",
              "      <td>1</td>\n",
              "      <td>2</td>\n",
              "      <td>0</td>\n",
              "      <td>20161220144914327.jpg.chip.jpg</td>\n",
              "      <td>202 205 209 210 209 209 210 211 212 214 218 21...</td>\n",
              "    </tr>\n",
              "  </tbody>\n",
              "</table>\n",
              "</div>"
            ],
            "text/plain": [
              "   age  ...                                             pixels\n",
              "0    1  ...  129 128 128 126 127 130 133 135 139 142 145 14...\n",
              "1    1  ...  164 74 111 168 169 171 175 182 184 188 193 199...\n",
              "2    1  ...  67 70 71 70 69 67 70 79 90 103 116 132 145 155...\n",
              "3    1  ...  193 197 198 200 199 200 202 203 204 205 208 21...\n",
              "4    1  ...  202 205 209 210 209 209 210 211 212 214 218 21...\n",
              "\n",
              "[5 rows x 5 columns]"
            ]
          },
          "metadata": {},
          "execution_count": 69
        }
      ]
    },
    {
      "cell_type": "code",
      "metadata": {
        "trusted": true,
        "colab": {
          "base_uri": "https://localhost:8080/",
          "height": 142
        },
        "id": "3RB8C82jwjjR",
        "outputId": "c298a7f6-8357-41c1-8c3f-a9bf3ba1f128"
      },
      "source": [
        "df.describe().transpose()"
      ],
      "execution_count": 70,
      "outputs": [
        {
          "output_type": "execute_result",
          "data": {
            "text/html": [
              "<div>\n",
              "<style scoped>\n",
              "    .dataframe tbody tr th:only-of-type {\n",
              "        vertical-align: middle;\n",
              "    }\n",
              "\n",
              "    .dataframe tbody tr th {\n",
              "        vertical-align: top;\n",
              "    }\n",
              "\n",
              "    .dataframe thead th {\n",
              "        text-align: right;\n",
              "    }\n",
              "</style>\n",
              "<table border=\"1\" class=\"dataframe\">\n",
              "  <thead>\n",
              "    <tr style=\"text-align: right;\">\n",
              "      <th></th>\n",
              "      <th>count</th>\n",
              "      <th>mean</th>\n",
              "      <th>std</th>\n",
              "      <th>min</th>\n",
              "      <th>25%</th>\n",
              "      <th>50%</th>\n",
              "      <th>75%</th>\n",
              "      <th>max</th>\n",
              "    </tr>\n",
              "  </thead>\n",
              "  <tbody>\n",
              "    <tr>\n",
              "      <th>age</th>\n",
              "      <td>23705.0</td>\n",
              "      <td>33.300907</td>\n",
              "      <td>19.885708</td>\n",
              "      <td>1.0</td>\n",
              "      <td>23.0</td>\n",
              "      <td>29.0</td>\n",
              "      <td>45.0</td>\n",
              "      <td>116.0</td>\n",
              "    </tr>\n",
              "    <tr>\n",
              "      <th>ethnicity</th>\n",
              "      <td>23705.0</td>\n",
              "      <td>1.269226</td>\n",
              "      <td>1.345638</td>\n",
              "      <td>0.0</td>\n",
              "      <td>0.0</td>\n",
              "      <td>1.0</td>\n",
              "      <td>2.0</td>\n",
              "      <td>4.0</td>\n",
              "    </tr>\n",
              "    <tr>\n",
              "      <th>gender</th>\n",
              "      <td>23705.0</td>\n",
              "      <td>0.477283</td>\n",
              "      <td>0.499494</td>\n",
              "      <td>0.0</td>\n",
              "      <td>0.0</td>\n",
              "      <td>0.0</td>\n",
              "      <td>1.0</td>\n",
              "      <td>1.0</td>\n",
              "    </tr>\n",
              "  </tbody>\n",
              "</table>\n",
              "</div>"
            ],
            "text/plain": [
              "             count       mean        std  min   25%   50%   75%    max\n",
              "age        23705.0  33.300907  19.885708  1.0  23.0  29.0  45.0  116.0\n",
              "ethnicity  23705.0   1.269226   1.345638  0.0   0.0   1.0   2.0    4.0\n",
              "gender     23705.0   0.477283   0.499494  0.0   0.0   0.0   1.0    1.0"
            ]
          },
          "metadata": {},
          "execution_count": 70
        }
      ]
    },
    {
      "cell_type": "code",
      "metadata": {
        "trusted": true,
        "colab": {
          "base_uri": "https://localhost:8080/",
          "height": 339
        },
        "id": "X2q6No08wjjS",
        "outputId": "84d7812e-6016-43bd-c2f7-7beee1522b31"
      },
      "source": [
        "# Age\n",
        "sns.distplot(df['age']);"
      ],
      "execution_count": 71,
      "outputs": [
        {
          "output_type": "stream",
          "name": "stderr",
          "text": [
            "/usr/local/lib/python3.7/dist-packages/seaborn/distributions.py:2619: FutureWarning: `distplot` is a deprecated function and will be removed in a future version. Please adapt your code to use either `displot` (a figure-level function with similar flexibility) or `histplot` (an axes-level function for histograms).\n",
            "  warnings.warn(msg, FutureWarning)\n"
          ]
        },
        {
          "output_type": "display_data",
          "data": {
            "image/png": "[encoded data removed]",
            "text/plain": [
              "<Figure size 432x288 with 1 Axes>"
            ]
          },
          "metadata": {}
        }
      ]
    },
    {
      "cell_type": "code",
      "metadata": {
        "trusted": true,
        "colab": {
          "base_uri": "https://localhost:8080/",
          "height": 339
        },
        "id": "QrMJgPcewjjS",
        "outputId": "fa61bd09-641f-44c3-a5ea-7bae6ab6f5e5"
      },
      "source": [
        "# Ethnicity\n",
        "sns.countplot(df['ethnicity']);"
      ],
      "execution_count": 72,
      "outputs": [
        {
          "output_type": "stream",
          "name": "stderr",
          "text": [
            "/usr/local/lib/python3.7/dist-packages/seaborn/_decorators.py:43: FutureWarning: Pass the following variable as a keyword arg: x. From version 0.12, the only valid positional argument will be `data`, and passing other arguments without an explicit keyword will result in an error or misinterpretation.\n",
            "  FutureWarning\n"
          ]
        },
        {
          "output_type": "display_data",
          "data": {
            "image/png": "[encoded data removed]",
            "text/plain": [
              "<Figure size 432x288 with 1 Axes>"
            ]
          },
          "metadata": {}
        }
      ]
    },
    {
      "cell_type": "code",
      "metadata": {
        "trusted": true,
        "colab": {
          "base_uri": "https://localhost:8080/",
          "height": 339
        },
        "id": "icIfcbwOwjjT",
        "outputId": "24a5981e-7f2b-4abd-c1ab-d6409ac484d2"
      },
      "source": [
        "# Gender\n",
        "sns.countplot(df['gender']);"
      ],
      "execution_count": 73,
      "outputs": [
        {
          "output_type": "stream",
          "name": "stderr",
          "text": [
            "/usr/local/lib/python3.7/dist-packages/seaborn/_decorators.py:43: FutureWarning: Pass the following variable as a keyword arg: x. From version 0.12, the only valid positional argument will be `data`, and passing other arguments without an explicit keyword will result in an error or misinterpretation.\n",
            "  FutureWarning\n"
          ]
        },
        {
          "output_type": "display_data",
          "data": {
            "image/png": "[encoded data removed]",
            "text/plain": [
              "<Figure size 432x288 with 1 Axes>"
            ]
          },
          "metadata": {}
        }
      ]
    },
    {
      "cell_type": "markdown",
      "metadata": {
        "id": "3Vz6a-6awjjU"
      },
      "source": [
        "Actually imaeges in dataset are in string format, let's transform it in more useful type of data."
      ]
    },
    {
      "cell_type": "code",
      "metadata": {
        "trusted": true,
        "id": "krh8TO7kwjjU"
      },
      "source": [
        "df['pixels'] = df['pixels'].map(lambda x: np.array(x.split(' '), dtype=np.float32).reshape(48, 48))"
      ],
      "execution_count": 74,
      "outputs": []
    },
    {
      "cell_type": "code",
      "metadata": {
        "trusted": true,
        "colab": {
          "base_uri": "https://localhost:8080/",
          "height": 239
        },
        "id": "nNabufzmwjjV",
        "outputId": "5abc7a39-fac3-4247-ed15-41cf59b953c0"
      },
      "source": [
        "# Plot some pictures\n",
        "fig, axes = plt.subplots(1, 5, figsize=(20, 10))\n",
        "\n",
        "for i in range(5):\n",
        "    random_face = np.random.choice(len(df))\n",
        "    \n",
        "    age = df['age'][random_face]\n",
        "    ethnicity = df['ethnicity'][random_face]\n",
        "    gender = df['gender'][random_face]\n",
        "    \n",
        "    axes[i].set_title('Age: {0}, Ethnicity: {1}, Sex: {2}'.format(age, ethnicity, gender))\n",
        "    axes[i].imshow(df['pixels'][random_face])\n",
        "    axes[i].axis('off')\n"
      ],
      "execution_count": 75,
      "outputs": [
        {
          "output_type": "display_data",
          "data": {
            "image/png": "[encoded data removed]",
            "text/plain": [
              "<Figure size 1440x720 with 5 Axes>"
            ]
          },
          "metadata": {}
        }
      ]
    },
    {
      "cell_type": "markdown",
      "metadata": {
        "id": "4hTHxv6JwjjV"
      },
      "source": [
        "## CNN"
      ]
    },
    {
      "cell_type": "code",
      "metadata": {
        "trusted": true,
        "id": "awuV4qYQwjjW"
      },
      "source": [
        "# Reshape images for CNN\n",
        "X = np.array(df['pixels'].to_list())\n",
        "X_reshaped = X.reshape(X.shape[0], 48, 48, 1)"
      ],
      "execution_count": 76,
      "outputs": []
    },
    {
      "cell_type": "code",
      "metadata": {
        "trusted": true,
        "id": "NdIkHgS6wjjW"
      },
      "source": [
        "# Normalise images\n",
        "if np.max(X_reshaped) > 1: X_reshaped = X_reshaped / 255"
      ],
      "execution_count": 77,
      "outputs": []
    },
    {
      "cell_type": "code",
      "metadata": {
        "trusted": true,
        "id": "gjf4-uapwjjW"
      },
      "source": [
        "# Set some useful variables\n",
        "input_shape = X_reshaped.shape[1:] \n",
        "\n",
        "n_epochs = 25\n",
        "batch_size = 64"
      ],
      "execution_count": 78,
      "outputs": []
    },
    {
      "cell_type": "markdown",
      "metadata": {
        "id": "6lkEAO7DwjjX"
      },
      "source": [
        "## Age prediction"
      ]
    },
    {
      "cell_type": "markdown",
      "metadata": {
        "id": "Dx2yCJDHwjjX"
      },
      "source": [
        "So let's start with age prediction. "
      ]
    },
    {
      "cell_type": "code",
      "metadata": {
        "trusted": true,
        "id": "LOBl0_SGwjjX"
      },
      "source": [
        "# Set y\n",
        "y = df['age'].values"
      ],
      "execution_count": 79,
      "outputs": []
    },
    {
      "cell_type": "code",
      "metadata": {
        "trusted": true,
        "id": "TbZpuztowjjX"
      },
      "source": [
        "# Train test split\n",
        "X_train, X_test, y_train, y_test = train_test_split(X_reshaped, y, test_size=0.2, random_state=42)"
      ],
      "execution_count": 80,
      "outputs": []
    },
    {
      "cell_type": "code",
      "metadata": {
        "trusted": true,
        "colab": {
          "base_uri": "https://localhost:8080/"
        },
        "id": "48QYirt6wjjY",
        "outputId": "f45d6a22-4a28-4ba8-dbc2-612ba37b3644"
      },
      "source": [
        "age_model = Sequential()\n",
        "\n",
        "age_model.add(Conv2D(64, kernel_size=(3,3), input_shape=input_shape, activation='relu'))\n",
        "age_model.add(MaxPooling2D(pool_size=(2,2)))\n",
        "age_model.add(BatchNormalization())\n",
        "\n",
        "age_model.add(Conv2D(128, kernel_size=(3,3), activation='relu', padding='same'))\n",
        "age_model.add(Conv2D(128, kernel_size=(3,3), activation='relu'))\n",
        "age_model.add(MaxPooling2D(pool_size=(2,2)))\n",
        "age_model.add(Dropout(0.3))\n",
        "age_model.add(BatchNormalization())\n",
        "\n",
        "age_model.add(Conv2D(256, kernel_size=(3,3), activation='relu', padding='same'))\n",
        "age_model.add(Conv2D(256, kernel_size=(3,3), activation='relu'))\n",
        "age_model.add(MaxPooling2D(pool_size=(2,2)))\n",
        "age_model.add(Dropout(0.3))\n",
        "age_model.add(BatchNormalization())\n",
        "\n",
        "age_model.add(Conv2D(512, kernel_size=(3,3), activation='relu', padding='same'))\n",
        "age_model.add(MaxPooling2D(pool_size=(2,2)))\n",
        "age_model.add(Dropout(0.5))\n",
        "age_model.add(BatchNormalization())\n",
        "\n",
        "age_model.add(Flatten())\n",
        "age_model.add(Dense(128, activation='relu'))\n",
        "age_model.add(Dropout(0.4))\n",
        "age_model.add(Dense(1))\n",
        "\n",
        "age_model.compile(optimizer='adam', loss='mse')\n",
        "\n",
        "age_model.summary()"
      ],
      "execution_count": 81,
      "outputs": [
        {
          "output_type": "stream",
          "name": "stdout",
          "text": [
            "Model: \"sequential_3\"\n",
            "_________________________________________________________________\n",
            "Layer (type)                 Output Shape              Param #   \n",
            "=================================================================\n",
            "conv2d_13 (Conv2D)           (None, 46, 46, 64)        640       \n",
            "_________________________________________________________________\n",
            "max_pooling2d_10 (MaxPooling (None, 23, 23, 64)        0         \n",
            "_________________________________________________________________\n",
            "batch_normalization_10 (Batc (None, 23, 23, 64)        256       \n",
            "_________________________________________________________________\n",
            "conv2d_14 (Conv2D)           (None, 23, 23, 128)       73856     \n",
            "_________________________________________________________________\n",
            "conv2d_15 (Conv2D)           (None, 21, 21, 128)       147584    \n",
            "_________________________________________________________________\n",
            "max_pooling2d_11 (MaxPooling (None, 10, 10, 128)       0         \n",
            "_________________________________________________________________\n",
            "dropout_9 (Dropout)          (None, 10, 10, 128)       0         \n",
            "_________________________________________________________________\n",
            "batch_normalization_11 (Batc (None, 10, 10, 128)       512       \n",
            "_________________________________________________________________\n",
            "conv2d_16 (Conv2D)           (None, 10, 10, 256)       295168    \n",
            "_________________________________________________________________\n",
            "conv2d_17 (Conv2D)           (None, 8, 8, 256)         590080    \n",
            "_________________________________________________________________\n",
            "max_pooling2d_12 (MaxPooling (None, 4, 4, 256)         0         \n",
            "_________________________________________________________________\n",
            "dropout_10 (Dropout)         (None, 4, 4, 256)         0         \n",
            "_________________________________________________________________\n",
            "batch_normalization_12 (Batc (None, 4, 4, 256)         1024      \n",
            "_________________________________________________________________\n",
            "conv2d_18 (Conv2D)           (None, 4, 4, 512)         1180160   \n",
            "_________________________________________________________________\n",
            "max_pooling2d_13 (MaxPooling (None, 2, 2, 512)         0         \n",
            "_________________________________________________________________\n",
            "dropout_11 (Dropout)         (None, 2, 2, 512)         0         \n",
            "_________________________________________________________________\n",
            "batch_normalization_13 (Batc (None, 2, 2, 512)         2048      \n",
            "_________________________________________________________________\n",
            "flatten_3 (Flatten)          (None, 2048)              0         \n",
            "_________________________________________________________________\n",
            "dense_6 (Dense)              (None, 128)               262272    \n",
            "_________________________________________________________________\n",
            "dropout_12 (Dropout)         (None, 128)               0         \n",
            "_________________________________________________________________\n",
            "dense_7 (Dense)              (None, 1)                 129       \n",
            "=================================================================\n",
            "Total params: 2,553,729\n",
            "Trainable params: 2,551,809\n",
            "Non-trainable params: 1,920\n",
            "_________________________________________________________________\n"
          ]
        }
      ]
    },
    {
      "cell_type": "code",
      "metadata": {
        "trusted": true,
        "id": "dXvX2jG5wjjY"
      },
      "source": [
        "# Callbacks for age model\n",
        "callbacks = [EarlyStopping(patience=4, monitor='val_loss', mode='min'), \n",
        "             ReduceLROnPlateau(patience=2, verbose=1)]"
      ],
      "execution_count": 82,
      "outputs": []
    },
    {
      "cell_type": "code",
      "metadata": {
        "trusted": true,
        "colab": {
          "base_uri": "https://localhost:8080/"
        },
        "id": "E_xTiFe9wjjZ",
        "outputId": "c7556d56-7da5-49ce-8c22-2380f874f82e"
      },
      "source": [
        "history = age_model.fit(X_train, y_train, \n",
        "                        epochs=n_epochs,\n",
        "                        batch_size=batch_size,\n",
        "                        callbacks=callbacks,\n",
        "                        validation_data=(X_test, y_test))"
      ],
      "execution_count": 83,
      "outputs": [
        {
          "output_type": "stream",
          "name": "stdout",
          "text": [
            "Epoch 1/25\n",
            "297/297 [==============================] - 16s 51ms/step - loss: 232.0694 - val_loss: 2083.4204\n",
            "Epoch 2/25\n",
            "297/297 [==============================] - 15s 49ms/step - loss: 137.8992 - val_loss: 510.2286\n",
            "Epoch 3/25\n",
            "297/297 [==============================] - 15s 49ms/step - loss: 118.6401 - val_loss: 292.3045\n",
            "Epoch 4/25\n",
            "297/297 [==============================] - 15s 49ms/step - loss: 107.4437 - val_loss: 162.8211\n",
            "Epoch 5/25\n",
            "297/297 [==============================] - 15s 49ms/step - loss: 102.8788 - val_loss: 140.1348\n",
            "Epoch 6/25\n",
            "297/297 [==============================] - 15s 49ms/step - loss: 95.8026 - val_loss: 259.9850\n",
            "Epoch 7/25\n",
            "297/297 [==============================] - 15s 49ms/step - loss: 88.2454 - val_loss: 263.3653\n",
            "\n",
            "Epoch 00007: ReduceLROnPlateau reducing learning rate to 0.00010000000474974513.\n",
            "Epoch 8/25\n",
            "297/297 [==============================] - 15s 49ms/step - loss: 73.9045 - val_loss: 77.6443\n",
            "Epoch 9/25\n",
            "297/297 [==============================] - 15s 49ms/step - loss: 70.8844 - val_loss: 67.7936\n",
            "Epoch 10/25\n",
            "297/297 [==============================] - 15s 49ms/step - loss: 68.1334 - val_loss: 83.3403\n",
            "Epoch 11/25\n",
            "297/297 [==============================] - 15s 49ms/step - loss: 66.3220 - val_loss: 74.5846\n",
            "\n",
            "Epoch 00011: ReduceLROnPlateau reducing learning rate to 1.0000000474974514e-05.\n",
            "Epoch 12/25\n",
            "297/297 [==============================] - 15s 49ms/step - loss: 63.5006 - val_loss: 66.7117\n",
            "Epoch 13/25\n",
            "297/297 [==============================] - 15s 49ms/step - loss: 63.5600 - val_loss: 67.0631\n",
            "Epoch 14/25\n",
            "297/297 [==============================] - 15s 49ms/step - loss: 62.7182 - val_loss: 67.1319\n",
            "\n",
            "Epoch 00014: ReduceLROnPlateau reducing learning rate to 1.0000000656873453e-06.\n",
            "Epoch 15/25\n",
            "297/297 [==============================] - 15s 49ms/step - loss: 62.2006 - val_loss: 66.0800\n",
            "Epoch 16/25\n",
            "297/297 [==============================] - 15s 49ms/step - loss: 62.5072 - val_loss: 66.1029\n",
            "Epoch 17/25\n",
            "297/297 [==============================] - 15s 49ms/step - loss: 62.5125 - val_loss: 66.1923\n",
            "\n",
            "Epoch 00017: ReduceLROnPlateau reducing learning rate to 1.0000001111620805e-07.\n",
            "Epoch 18/25\n",
            "297/297 [==============================] - 15s 49ms/step - loss: 62.8459 - val_loss: 66.1678\n",
            "Epoch 19/25\n",
            "297/297 [==============================] - 15s 49ms/step - loss: 62.1272 - val_loss: 66.1993\n",
            "\n",
            "Epoch 00019: ReduceLROnPlateau reducing learning rate to 1.000000082740371e-08.\n"
          ]
        }
      ]
    },
    {
      "cell_type": "code",
      "metadata": {
        "trusted": true,
        "colab": {
          "base_uri": "https://localhost:8080/",
          "height": 268
        },
        "id": "trT5AhqBwjjZ",
        "outputId": "1ebf5903-60f6-4c9a-85e6-13eb4a685d39"
      },
      "source": [
        "pd.DataFrame(history.history).plot();"
      ],
      "execution_count": 84,
      "outputs": [
        {
          "output_type": "display_data",
          "data": {
            "image/png": "[encoded data removed]",
            "text/plain": [
              "<Figure size 432x288 with 1 Axes>"
            ]
          },
          "metadata": {}
        }
      ]
    },
    {
      "cell_type": "code",
      "metadata": {
        "trusted": true,
        "colab": {
          "base_uri": "https://localhost:8080/"
        },
        "id": "Y7iZVxUywjjZ",
        "outputId": "b3cb05ae-c3cd-4797-c600-71c3605f49cd"
      },
      "source": [
        "valid_score = age_model.evaluate(X_test, y_test, verbose=1)"
      ],
      "execution_count": 85,
      "outputs": [
        {
          "output_type": "stream",
          "name": "stdout",
          "text": [
            "149/149 [==============================] - 1s 10ms/step - loss: 66.1993\n"
          ]
        }
      ]
    },
    {
      "cell_type": "code",
      "metadata": {
        "trusted": true,
        "id": "ZhUoZWS1wjja"
      },
      "source": [
        "# Make predictions \n",
        "y_pred = age_model.predict(X_test)"
      ],
      "execution_count": 86,
      "outputs": []
    },
    {
      "cell_type": "code",
      "metadata": {
        "trusted": true,
        "colab": {
          "base_uri": "https://localhost:8080/"
        },
        "id": "GeA5S910wjja",
        "outputId": "b9dce375-ae2f-43ff-d184-304768acc41f"
      },
      "source": [
        "# Man absolute error\n",
        "print(\"MAE: {}\".format(mean_absolute_error(y_test, y_pred)))"
      ],
      "execution_count": 87,
      "outputs": [
        {
          "output_type": "stream",
          "name": "stdout",
          "text": [
            "MAE: 5.717615652583466\n"
          ]
        }
      ]
    },
    {
      "cell_type": "code",
      "metadata": {
        "trusted": true,
        "colab": {
          "base_uri": "https://localhost:8080/",
          "height": 325
        },
        "id": "btfQwlwXwjja",
        "outputId": "56939831-5803-4742-f78b-a9e530a91d36"
      },
      "source": [
        "plt.figure(figsize=(8, 5))\n",
        "plt.scatter(y_pred, y_test);"
      ],
      "execution_count": 88,
      "outputs": [
        {
          "output_type": "display_data",
          "data": {
            "image/png": "[encoded data removed]",
            "text/plain": [
              "<Figure size 576x360 with 1 Axes>"
            ]
          },
          "metadata": {}
        }
      ]
    },
    {
      "cell_type": "markdown",
      "metadata": {
        "id": "5pHleOxxwjja"
      },
      "source": [
        "So, mean absolute error around 5.5 years it's not so super result considering mean age is 33, it's about 17%."
      ]
    },
    {
      "cell_type": "markdown",
      "metadata": {
        "id": "DpBtiTBAwjja"
      },
      "source": [
        "## Gender prediction"
      ]
    },
    {
      "cell_type": "code",
      "metadata": {
        "trusted": true,
        "id": "0Jlrgj4vwjjb"
      },
      "source": [
        "# Set y\n",
        "y = df['gender'].values\n",
        "\n",
        "# Train test split\n",
        "X_train, X_test, y_train, y_test = train_test_split(X_reshaped, y, test_size=0.2, random_state=42)"
      ],
      "execution_count": 89,
      "outputs": []
    },
    {
      "cell_type": "code",
      "metadata": {
        "trusted": true,
        "colab": {
          "base_uri": "https://localhost:8080/"
        },
        "id": "jTGlvivBwjjb",
        "outputId": "fc9c8384-acf9-4557-9ca8-912e629a6bfa"
      },
      "source": [
        "gender_model = Sequential()\n",
        "\n",
        "gender_model.add(Conv2D(64, kernel_size=(3,3), input_shape=input_shape, activation='relu'))\n",
        "gender_model.add(MaxPooling2D(pool_size=(2,2)))\n",
        "gender_model.add(BatchNormalization())\n",
        "\n",
        "gender_model.add(Conv2D(128, kernel_size=(3,3), activation='relu'))\n",
        "#gender_model.add(Conv2D(128, kernel_size=(3,3), activation='relu'))\n",
        "gender_model.add(MaxPooling2D(pool_size=(2,2)))\n",
        "gender_model.add(Dropout(0.4))\n",
        "gender_model.add(BatchNormalization())\n",
        "\n",
        "gender_model.add(Conv2D(256, kernel_size=(3,3), activation='relu'))\n",
        "gender_model.add(Conv2D(256, kernel_size=(3,3), activation='relu'))\n",
        "gender_model.add(MaxPooling2D(pool_size=(2,2)))\n",
        "gender_model.add(Dropout(0.5))\n",
        "gender_model.add(BatchNormalization())\n",
        "\n",
        "gender_model.add(Flatten())\n",
        "\n",
        "gender_model.add(Dense(64, activation='relu'))\n",
        "gender_model.add(Dropout(0.4))\n",
        "\n",
        "gender_model.add(Dense(1, activation='sigmoid')) #For binary classification activation function is sigmoid \n",
        "\n",
        "gender_model.compile(optimizer='adam', loss='binary_crossentropy', metrics=['accuracy']) #...and loss function is binary_crossentropy\n",
        "\n",
        "gender_model.summary()"
      ],
      "execution_count": 90,
      "outputs": [
        {
          "output_type": "stream",
          "name": "stdout",
          "text": [
            "Model: \"sequential_4\"\n",
            "_________________________________________________________________\n",
            "Layer (type)                 Output Shape              Param #   \n",
            "=================================================================\n",
            "conv2d_19 (Conv2D)           (None, 46, 46, 64)        640       \n",
            "_________________________________________________________________\n",
            "max_pooling2d_14 (MaxPooling (None, 23, 23, 64)        0         \n",
            "_________________________________________________________________\n",
            "batch_normalization_14 (Batc (None, 23, 23, 64)        256       \n",
            "_________________________________________________________________\n",
            "conv2d_20 (Conv2D)           (None, 21, 21, 128)       73856     \n",
            "_________________________________________________________________\n",
            "max_pooling2d_15 (MaxPooling (None, 10, 10, 128)       0         \n",
            "_________________________________________________________________\n",
            "dropout_13 (Dropout)         (None, 10, 10, 128)       0         \n",
            "_________________________________________________________________\n",
            "batch_normalization_15 (Batc (None, 10, 10, 128)       512       \n",
            "_________________________________________________________________\n",
            "conv2d_21 (Conv2D)           (None, 8, 8, 256)         295168    \n",
            "_________________________________________________________________\n",
            "conv2d_22 (Conv2D)           (None, 6, 6, 256)         590080    \n",
            "_________________________________________________________________\n",
            "max_pooling2d_16 (MaxPooling (None, 3, 3, 256)         0         \n",
            "_________________________________________________________________\n",
            "dropout_14 (Dropout)         (None, 3, 3, 256)         0         \n",
            "_________________________________________________________________\n",
            "batch_normalization_16 (Batc (None, 3, 3, 256)         1024      \n",
            "_________________________________________________________________\n",
            "flatten_4 (Flatten)          (None, 2304)              0         \n",
            "_________________________________________________________________\n",
            "dense_8 (Dense)              (None, 64)                147520    \n",
            "_________________________________________________________________\n",
            "dropout_15 (Dropout)         (None, 64)                0         \n",
            "_________________________________________________________________\n",
            "dense_9 (Dense)              (None, 1)                 65        \n",
            "=================================================================\n",
            "Total params: 1,109,121\n",
            "Trainable params: 1,108,225\n",
            "Non-trainable params: 896\n",
            "_________________________________________________________________\n"
          ]
        }
      ]
    },
    {
      "cell_type": "code",
      "metadata": {
        "trusted": true,
        "id": "SBwSee8gwjjb"
      },
      "source": [
        "# Callbacks for gender model\n",
        "callbacks = [EarlyStopping(patience=4, monitor='val_accuracy', mode='max'), \n",
        "              ReduceLROnPlateau(patience=2, verbose=1)]"
      ],
      "execution_count": 91,
      "outputs": []
    },
    {
      "cell_type": "code",
      "metadata": {
        "trusted": true,
        "colab": {
          "base_uri": "https://localhost:8080/"
        },
        "id": "lcgcNV4Rwjjb",
        "outputId": "5f596149-0a26-46db-9bb4-d437eed247c5"
      },
      "source": [
        "history = gender_model.fit(X_train, y_train, \n",
        "                           epochs=n_epochs,\n",
        "                           batch_size=batch_size,\n",
        "                           callbacks=callbacks,\n",
        "                           validation_data=(X_test, y_test))"
      ],
      "execution_count": 92,
      "outputs": [
        {
          "output_type": "stream",
          "name": "stdout",
          "text": [
            "Epoch 1/25\n",
            "297/297 [==============================] - 10s 30ms/step - loss: 0.4942 - accuracy: 0.7646 - val_loss: 0.9930 - val_accuracy: 0.5206\n",
            "Epoch 2/25\n",
            "297/297 [==============================] - 9s 29ms/step - loss: 0.3493 - accuracy: 0.8440 - val_loss: 0.4169 - val_accuracy: 0.7882\n",
            "Epoch 3/25\n",
            "297/297 [==============================] - 9s 29ms/step - loss: 0.3158 - accuracy: 0.8625 - val_loss: 0.3117 - val_accuracy: 0.8629\n",
            "Epoch 4/25\n",
            "297/297 [==============================] - 9s 29ms/step - loss: 0.2942 - accuracy: 0.8726 - val_loss: 0.2930 - val_accuracy: 0.8726\n",
            "Epoch 5/25\n",
            "297/297 [==============================] - 9s 29ms/step - loss: 0.2746 - accuracy: 0.8806 - val_loss: 0.2965 - val_accuracy: 0.8682\n",
            "Epoch 6/25\n",
            "297/297 [==============================] - 9s 29ms/step - loss: 0.2602 - accuracy: 0.8870 - val_loss: 0.3368 - val_accuracy: 0.8439\n",
            "\n",
            "Epoch 00006: ReduceLROnPlateau reducing learning rate to 0.00010000000474974513.\n",
            "Epoch 7/25\n",
            "297/297 [==============================] - 9s 29ms/step - loss: 0.2344 - accuracy: 0.9011 - val_loss: 0.2347 - val_accuracy: 0.9017\n",
            "Epoch 8/25\n",
            "297/297 [==============================] - 9s 29ms/step - loss: 0.2177 - accuracy: 0.9086 - val_loss: 0.2312 - val_accuracy: 0.9026\n",
            "Epoch 9/25\n",
            "297/297 [==============================] - 9s 29ms/step - loss: 0.2094 - accuracy: 0.9096 - val_loss: 0.2284 - val_accuracy: 0.9036\n",
            "Epoch 10/25\n",
            "297/297 [==============================] - 9s 29ms/step - loss: 0.1996 - accuracy: 0.9156 - val_loss: 0.2295 - val_accuracy: 0.9066\n",
            "Epoch 11/25\n",
            "297/297 [==============================] - 9s 29ms/step - loss: 0.1965 - accuracy: 0.9165 - val_loss: 0.2285 - val_accuracy: 0.9034\n",
            "\n",
            "Epoch 00011: ReduceLROnPlateau reducing learning rate to 1.0000000474974514e-05.\n",
            "Epoch 12/25\n",
            "297/297 [==============================] - 9s 29ms/step - loss: 0.1861 - accuracy: 0.9227 - val_loss: 0.2287 - val_accuracy: 0.9036\n",
            "Epoch 13/25\n",
            "297/297 [==============================] - 9s 29ms/step - loss: 0.1881 - accuracy: 0.9194 - val_loss: 0.2279 - val_accuracy: 0.9045\n",
            "Epoch 14/25\n",
            "297/297 [==============================] - 9s 29ms/step - loss: 0.1812 - accuracy: 0.9240 - val_loss: 0.2287 - val_accuracy: 0.9036\n"
          ]
        }
      ]
    },
    {
      "cell_type": "code",
      "metadata": {
        "trusted": true,
        "colab": {
          "base_uri": "https://localhost:8080/"
        },
        "id": "JTwVP4oUwjjc",
        "outputId": "8e1b6b75-fd1e-4e70-e4b8-e5702336d967"
      },
      "source": [
        "# Metrics\n",
        "valid_score = gender_model.evaluate(X_test, y_test, verbose=1)\n",
        "print('Accuracy for test set: {0}'.format(valid_score[1]))"
      ],
      "execution_count": 93,
      "outputs": [
        {
          "output_type": "stream",
          "name": "stdout",
          "text": [
            "149/149 [==============================] - 1s 7ms/step - loss: 0.2287 - accuracy: 0.9036\n",
            "Accuracy for test set: 0.9036068320274353\n"
          ]
        }
      ]
    },
    {
      "cell_type": "code",
      "metadata": {
        "trusted": true,
        "id": "H_qqVk2twjjc"
      },
      "source": [
        "y_pred=gender_model.predict(X_test) \n",
        "y_pred=np.argmax(y_pred,axis=1)\n"
      ],
      "execution_count": 94,
      "outputs": []
    },
    {
      "cell_type": "code",
      "metadata": {
        "trusted": true,
        "colab": {
          "base_uri": "https://localhost:8080/"
        },
        "id": "s4VkLXIWwjjc",
        "outputId": "df6ae6d2-dfa7-46af-9205-4958c7b0de83"
      },
      "source": [
        "print(classification_report(y_test, y_pred))"
      ],
      "execution_count": 95,
      "outputs": [
        {
          "output_type": "stream",
          "name": "stdout",
          "text": [
            "              precision    recall  f1-score   support\n",
            "\n",
            "           0       0.52      1.00      0.68      2468\n",
            "           1       0.00      0.00      0.00      2273\n",
            "\n",
            "    accuracy                           0.52      4741\n",
            "   macro avg       0.26      0.50      0.34      4741\n",
            "weighted avg       0.27      0.52      0.36      4741\n",
            "\n"
          ]
        },
        {
          "output_type": "stream",
          "name": "stderr",
          "text": [
            "/usr/local/lib/python3.7/dist-packages/sklearn/metrics/_classification.py:1272: UndefinedMetricWarning: Precision and F-score are ill-defined and being set to 0.0 in labels with no predicted samples. Use `zero_division` parameter to control this behavior.\n",
            "  _warn_prf(average, modifier, msg_start, len(result))\n"
          ]
        }
      ]
    },
    {
      "cell_type": "code",
      "metadata": {
        "trusted": true,
        "colab": {
          "base_uri": "https://localhost:8080/",
          "height": 268
        },
        "id": "XMQnmKwswjjc",
        "outputId": "c813b006-8da9-4b92-d2a7-ca545460f063"
      },
      "source": [
        "# Confusion matrix\n",
        "cm = confusion_matrix(y_test, y_pred)\n",
        "sns.heatmap(cm, cmap='Greens', cbar=False, annot=True, fmt='d');"
      ],
      "execution_count": 96,
      "outputs": [
        {
          "output_type": "display_data",
          "data": {
            "image/png": "[encoded data removed]",
            "text/plain": [
              "<Figure size 432x288 with 1 Axes>"
            ]
          },
          "metadata": {}
        }
      ]
    },
    {
      "cell_type": "markdown",
      "metadata": {
        "id": "sDaoTnzUwjjc"
      },
      "source": [
        "I suppose big part of this mistakes is children. Let's see some examples where's model had made mistake."
      ]
    },
    {
      "cell_type": "code",
      "metadata": {
        "trusted": true,
        "id": "FygbWQOswjjd"
      },
      "source": [
        "y_pred = y_pred.reshape(y_pred.shape[0])"
      ],
      "execution_count": 97,
      "outputs": []
    },
    {
      "cell_type": "code",
      "metadata": {
        "trusted": true,
        "colab": {
          "base_uri": "https://localhost:8080/",
          "height": 223
        },
        "id": "UDuOq3Q4wjjd",
        "outputId": "eb4d998e-1c2a-4d60-e637-bef829cd4741"
      },
      "source": [
        "# Model predict is male, but actually it's female\n",
        "\n",
        "X_fn = X_test[(y_pred == 0) & (y_test == 1)]  \n",
        "\n",
        "fig, axes = plt.subplots(1, 5, figsize=(20, 10))\n",
        "\n",
        "for i in range(5):\n",
        "    \n",
        "    random_choice = np.random.choice(len(X_fn))\n",
        "    axes[i].imshow(X_fn[random_choice].reshape(48, 48))\n",
        "    axes[i].axis('off')"
      ],
      "execution_count": 98,
      "outputs": [
        {
          "output_type": "display_data",
          "data": {
            "image/png": "[encoded data removed]",
            "text/plain": [
              "<Figure size 1440x720 with 5 Axes>"
            ]
          },
          "metadata": {}
        }
      ]
    },
    {
      "cell_type": "markdown",
      "metadata": {
        "id": "n_JE0H5Twjjd"
      },
      "source": [
        "So, on many photos difference between genders are not so clear."
      ]
    },
    {
      "cell_type": "markdown",
      "metadata": {
        "id": "ErP4cpjxwjjd"
      },
      "source": [
        "## Ethnicity prediction"
      ]
    },
    {
      "cell_type": "code",
      "metadata": {
        "trusted": true,
        "id": "u6NyW0h8wjjd"
      },
      "source": [
        "# Set y\n",
        "y = df['ethnicity'].values\n",
        "\n",
        "# Multiclass problem transform to one_hot_encoding\n",
        "y = to_categorical(y, 5)\n",
        "\n",
        "# Train test split\n",
        "X_train, X_test, y_train, y_test = train_test_split(X_reshaped, y, test_size=0.2, random_state=42)"
      ],
      "execution_count": 99,
      "outputs": []
    },
    {
      "cell_type": "code",
      "metadata": {
        "trusted": true,
        "colab": {
          "base_uri": "https://localhost:8080/"
        },
        "id": "17HoPfm8wjje",
        "outputId": "409f3cc5-cecd-4451-bd2d-ade84d951ba3"
      },
      "source": [
        "eth_model = Sequential()\n",
        "\n",
        "eth_model.add(Conv2D(64, kernel_size=(3,3), input_shape=input_shape, activation='relu'))\n",
        "eth_model.add(MaxPooling2D(pool_size=(2,2)))\n",
        "eth_model.add(BatchNormalization())\n",
        "\n",
        "eth_model.add(Conv2D(128, kernel_size=(3,3), activation='relu'))\n",
        "eth_model.add(MaxPooling2D(pool_size=(2,2)))\n",
        "eth_model.add(BatchNormalization())\n",
        "\n",
        "eth_model.add(Conv2D(256, kernel_size=(3,3), activation='relu'))\n",
        "eth_model.add(MaxPooling2D(pool_size=(2,2)))\n",
        "eth_model.add(Dropout(0.5))\n",
        "eth_model.add(BatchNormalization())\n",
        "\n",
        "eth_model.add(Flatten())\n",
        "eth_model.add(Dense(128, activation='relu'))\n",
        "eth_model.add(Dropout(0.5))\n",
        "eth_model.add(Dense(5, activation='softmax')) #For multiclass classification activation function is softmax \n",
        "\n",
        "eth_model.compile(optimizer='adam', loss='categorical_crossentropy', metrics=['accuracy']) #...and loss function is categorical_crossentropy\n",
        "\n",
        "eth_model.summary()"
      ],
      "execution_count": 100,
      "outputs": [
        {
          "output_type": "stream",
          "name": "stdout",
          "text": [
            "Model: \"sequential_5\"\n",
            "_________________________________________________________________\n",
            "Layer (type)                 Output Shape              Param #   \n",
            "=================================================================\n",
            "conv2d_23 (Conv2D)           (None, 46, 46, 64)        640       \n",
            "_________________________________________________________________\n",
            "max_pooling2d_17 (MaxPooling (None, 23, 23, 64)        0         \n",
            "_________________________________________________________________\n",
            "batch_normalization_17 (Batc (None, 23, 23, 64)        256       \n",
            "_________________________________________________________________\n",
            "conv2d_24 (Conv2D)           (None, 21, 21, 128)       73856     \n",
            "_________________________________________________________________\n",
            "max_pooling2d_18 (MaxPooling (None, 10, 10, 128)       0         \n",
            "_________________________________________________________________\n",
            "batch_normalization_18 (Batc (None, 10, 10, 128)       512       \n",
            "_________________________________________________________________\n",
            "conv2d_25 (Conv2D)           (None, 8, 8, 256)         295168    \n",
            "_________________________________________________________________\n",
            "max_pooling2d_19 (MaxPooling (None, 4, 4, 256)         0         \n",
            "_________________________________________________________________\n",
            "dropout_16 (Dropout)         (None, 4, 4, 256)         0         \n",
            "_________________________________________________________________\n",
            "batch_normalization_19 (Batc (None, 4, 4, 256)         1024      \n",
            "_________________________________________________________________\n",
            "flatten_5 (Flatten)          (None, 4096)              0         \n",
            "_________________________________________________________________\n",
            "dense_10 (Dense)             (None, 128)               524416    \n",
            "_________________________________________________________________\n",
            "dropout_17 (Dropout)         (None, 128)               0         \n",
            "_________________________________________________________________\n",
            "dense_11 (Dense)             (None, 5)                 645       \n",
            "=================================================================\n",
            "Total params: 896,517\n",
            "Trainable params: 895,621\n",
            "Non-trainable params: 896\n",
            "_________________________________________________________________\n"
          ]
        }
      ]
    },
    {
      "cell_type": "code",
      "metadata": {
        "trusted": true,
        "id": "jO79SQmxwjje"
      },
      "source": [
        "# Callbacks for ethnicity model\n",
        "callbacks = [EarlyStopping(patience=4, monitor='val_accuracy', mode='max'), \n",
        "             ReduceLROnPlateau(patience=2, verbose=1)]"
      ],
      "execution_count": 101,
      "outputs": []
    },
    {
      "cell_type": "code",
      "metadata": {
        "trusted": true,
        "colab": {
          "base_uri": "https://localhost:8080/"
        },
        "id": "n24XkVuXwjje",
        "outputId": "f7ce40d5-b398-4a1e-dabe-bfd90bf720c9"
      },
      "source": [
        "history = eth_model.fit(X_train, y_train, \n",
        "                         epochs=n_epochs,\n",
        "                         batch_size=batch_size,\n",
        "                         callbacks=callbacks,\n",
        "                         validation_data=(X_test, y_test))"
      ],
      "execution_count": 102,
      "outputs": [
        {
          "output_type": "stream",
          "name": "stdout",
          "text": [
            "Epoch 1/25\n",
            "297/297 [==============================] - 8s 25ms/step - loss: 1.1410 - accuracy: 0.5859 - val_loss: 3.5728 - val_accuracy: 0.4318\n",
            "Epoch 2/25\n",
            "297/297 [==============================] - 7s 24ms/step - loss: 0.8879 - accuracy: 0.6870 - val_loss: 1.0947 - val_accuracy: 0.5613\n",
            "Epoch 3/25\n",
            "297/297 [==============================] - 7s 24ms/step - loss: 0.8083 - accuracy: 0.7155 - val_loss: 1.0659 - val_accuracy: 0.5769\n",
            "Epoch 4/25\n",
            "297/297 [==============================] - 7s 23ms/step - loss: 0.7407 - accuracy: 0.7432 - val_loss: 0.7853 - val_accuracy: 0.7296\n",
            "Epoch 5/25\n",
            "297/297 [==============================] - 7s 24ms/step - loss: 0.6925 - accuracy: 0.7610 - val_loss: 0.7365 - val_accuracy: 0.7338\n",
            "Epoch 6/25\n",
            "297/297 [==============================] - 7s 24ms/step - loss: 0.6439 - accuracy: 0.7778 - val_loss: 0.6969 - val_accuracy: 0.7572\n",
            "Epoch 7/25\n",
            "297/297 [==============================] - 7s 24ms/step - loss: 0.6122 - accuracy: 0.7882 - val_loss: 0.9124 - val_accuracy: 0.6779\n",
            "Epoch 8/25\n",
            "297/297 [==============================] - 7s 24ms/step - loss: 0.5824 - accuracy: 0.8003 - val_loss: 0.6913 - val_accuracy: 0.7576\n",
            "Epoch 9/25\n",
            "297/297 [==============================] - 7s 24ms/step - loss: 0.5532 - accuracy: 0.8089 - val_loss: 0.6290 - val_accuracy: 0.7758\n",
            "Epoch 10/25\n",
            "297/297 [==============================] - 7s 23ms/step - loss: 0.5302 - accuracy: 0.8131 - val_loss: 0.6081 - val_accuracy: 0.7887\n",
            "Epoch 11/25\n",
            "297/297 [==============================] - 7s 24ms/step - loss: 0.5086 - accuracy: 0.8242 - val_loss: 0.7318 - val_accuracy: 0.7380\n",
            "Epoch 12/25\n",
            "297/297 [==============================] - 7s 23ms/step - loss: 0.4763 - accuracy: 0.8319 - val_loss: 0.7432 - val_accuracy: 0.7399\n",
            "\n",
            "Epoch 00012: ReduceLROnPlateau reducing learning rate to 0.00010000000474974513.\n",
            "Epoch 13/25\n",
            "297/297 [==============================] - 7s 24ms/step - loss: 0.4060 - accuracy: 0.8532 - val_loss: 0.5638 - val_accuracy: 0.8121\n",
            "Epoch 14/25\n",
            "297/297 [==============================] - 7s 24ms/step - loss: 0.3655 - accuracy: 0.8676 - val_loss: 0.5725 - val_accuracy: 0.8144\n",
            "Epoch 15/25\n",
            "297/297 [==============================] - 7s 24ms/step - loss: 0.3479 - accuracy: 0.8768 - val_loss: 0.5787 - val_accuracy: 0.8116\n",
            "\n",
            "Epoch 00015: ReduceLROnPlateau reducing learning rate to 1.0000000474974514e-05.\n",
            "Epoch 16/25\n",
            "297/297 [==============================] - 7s 24ms/step - loss: 0.3262 - accuracy: 0.8795 - val_loss: 0.5714 - val_accuracy: 0.8129\n",
            "Epoch 17/25\n",
            "297/297 [==============================] - 7s 23ms/step - loss: 0.3319 - accuracy: 0.8804 - val_loss: 0.5704 - val_accuracy: 0.8146\n",
            "\n",
            "Epoch 00017: ReduceLROnPlateau reducing learning rate to 1.0000000656873453e-06.\n",
            "Epoch 18/25\n",
            "297/297 [==============================] - 7s 23ms/step - loss: 0.3296 - accuracy: 0.8830 - val_loss: 0.5709 - val_accuracy: 0.8144\n",
            "Epoch 19/25\n",
            "297/297 [==============================] - 7s 24ms/step - loss: 0.3245 - accuracy: 0.8818 - val_loss: 0.5708 - val_accuracy: 0.8142\n",
            "\n",
            "Epoch 00019: ReduceLROnPlateau reducing learning rate to 1.0000001111620805e-07.\n",
            "Epoch 20/25\n",
            "297/297 [==============================] - 7s 24ms/step - loss: 0.3210 - accuracy: 0.8829 - val_loss: 0.5705 - val_accuracy: 0.8144\n",
            "Epoch 21/25\n",
            "297/297 [==============================] - 7s 24ms/step - loss: 0.3270 - accuracy: 0.8817 - val_loss: 0.5706 - val_accuracy: 0.8146\n",
            "\n",
            "Epoch 00021: ReduceLROnPlateau reducing learning rate to 1.000000082740371e-08.\n"
          ]
        }
      ]
    },
    {
      "cell_type": "code",
      "metadata": {
        "trusted": true,
        "colab": {
          "base_uri": "https://localhost:8080/"
        },
        "id": "sQpLn5UKwjje",
        "outputId": "c90c7aca-3b42-40b0-b1ea-97dfa35b1916"
      },
      "source": [
        "valid_score = eth_model.evaluate(X_test, y_test, verbose=1)"
      ],
      "execution_count": 103,
      "outputs": [
        {
          "output_type": "stream",
          "name": "stdout",
          "text": [
            "149/149 [==============================] - 1s 6ms/step - loss: 0.5706 - accuracy: 0.8146\n"
          ]
        }
      ]
    },
    {
      "cell_type": "code",
      "metadata": {
        "trusted": true,
        "id": "PFvnBz_Gwjje"
      },
      "source": [
        "y_pred=eth_model.predict(X_test) \n",
        "y_pred=np.argmax(y_pred,axis=1)\n"
      ],
      "execution_count": 104,
      "outputs": []
    },
    {
      "cell_type": "code",
      "metadata": {
        "trusted": true,
        "id": "_WSZO5kDwjjf"
      },
      "source": [
        "# Convert to 0 to 4 scale \n",
        "y_test_labels = [np.argmax(i) for i in y_test]"
      ],
      "execution_count": 105,
      "outputs": []
    },
    {
      "cell_type": "code",
      "metadata": {
        "trusted": true,
        "colab": {
          "base_uri": "https://localhost:8080/"
        },
        "id": "NSscIAGawjjf",
        "outputId": "76231e41-e984-48f5-b485-aac83a01e6a4"
      },
      "source": [
        "print(classification_report(y_test_labels, y_pred))"
      ],
      "execution_count": 106,
      "outputs": [
        {
          "output_type": "stream",
          "name": "stdout",
          "text": [
            "              precision    recall  f1-score   support\n",
            "\n",
            "           0       0.84      0.89      0.86      2047\n",
            "           1       0.86      0.86      0.86       904\n",
            "           2       0.87      0.87      0.87       657\n",
            "           3       0.75      0.78      0.77       804\n",
            "           4       0.38      0.20      0.26       329\n",
            "\n",
            "    accuracy                           0.81      4741\n",
            "   macro avg       0.74      0.72      0.72      4741\n",
            "weighted avg       0.80      0.81      0.81      4741\n",
            "\n"
          ]
        }
      ]
    },
    {
      "cell_type": "code",
      "metadata": {
        "trusted": true,
        "colab": {
          "base_uri": "https://localhost:8080/",
          "height": 268
        },
        "id": "4lZUHhPGwjjf",
        "outputId": "e79374a6-9c79-4459-e90a-527c413b50a7"
      },
      "source": [
        "# Confusion matrix\n",
        "cm = confusion_matrix(y_test_labels, y_pred)\n",
        "\n",
        "np.fill_diagonal(cm, 0) #Fill diagonal with 0 for better visualisation\n",
        "sns.heatmap(cm, annot=True, fmt='d', cbar=False, cmap='Greens');"
      ],
      "execution_count": 107,
      "outputs": [
        {
          "output_type": "display_data",
          "data": {
            "image/png": "[encoded data removed]",
            "text/plain": [
              "<Figure size 432x288 with 1 Axes>"
            ]
          },
          "metadata": {}
        }
      ]
    },
    {
      "cell_type": "code",
      "metadata": {
        "trusted": true,
        "id": "t-qQpjiewjjf"
      },
      "source": [
        "def face_prediction(image):\n",
        "    \n",
        "    x = image.reshape(1, 48, 48, 1)\n",
        "    x = x / 255\n",
        "\n",
        "    \n",
        "    a2=gender_model.predict(x) \n",
        "    a2=np.argmax(a2,axis=1)\n",
        "\n",
        "    \n",
        "    a3=eth_model.predict(x) \n",
        "    a3=np.argmax(a3,axis=1)\n",
        "\n",
        "    \n",
        "    age_predict = int(age_model.predict(x))\n",
        "    gender_predict = int(a2)\n",
        "    ethnicity_predict = int(a3)\n",
        "\n",
        "    a2=gender_model.predict(x) \n",
        "    a2=np.argmax(a2,axis=1)\n",
        "\n",
        "\n",
        "\n",
        "    \n",
        "    gender = {0: 'Male', 1: 'Female'}\n",
        "    eth_group = {0: 'White', 1: 'Black', 2: 'Asian', 3: 'Indian', 4: 'Other'} \n",
        "    \n",
        "    plt.imshow(image)\n",
        "    plt.title('{0}, {1}, {2}'.format(age_predict, gender[gender_predict], eth_group[ethnicity_predict]))\n",
        "    plt.axis('off')"
      ],
      "execution_count": 108,
      "outputs": []
    },
    {
      "cell_type": "code",
      "metadata": {
        "trusted": true,
        "colab": {
          "base_uri": "https://localhost:8080/",
          "height": 264
        },
        "id": "BwGHBZyMwjjf",
        "outputId": "8c0ac91c-67f5-4470-ba11-82487f1ded2d"
      },
      "source": [
        "# Final check\n",
        "random_face = np.random.choice(len(df))\n",
        "\n",
        "age = df['age'][random_face]\n",
        "ethnicity = df['ethnicity'][random_face]\n",
        "gender = df['gender'][random_face]\n",
        "\n",
        "plt.imshow(df['pixels'][random_face])\n",
        "plt.title('Age: {0}, Sex: {1}, Ethnicity: {2},'.format(age, gender, ethnicity))\n",
        "plt.axis('off');"
      ],
      "execution_count": 109,
      "outputs": [
        {
          "output_type": "display_data",
          "data": {
            "image/png": "[encoded data removed]",
            "text/plain": [
              "<Figure size 432x288 with 1 Axes>"
            ]
          },
          "metadata": {}
        }
      ]
    },
    {
      "cell_type": "code",
      "metadata": {
        "trusted": true,
        "colab": {
          "base_uri": "https://localhost:8080/",
          "height": 264
        },
        "id": "NhNULwarwjjg",
        "outputId": "2b7deef2-f8e4-4f8d-b547-f4370e497c97"
      },
      "source": [
        "# Model prediction \n",
        "face_prediction(df['pixels'][random_face])"
      ],
      "execution_count": 110,
      "outputs": [
        {
          "output_type": "display_data",
          "data": {
            "image/png": "[encoded data removed]",
            "text/plain": [
              "<Figure size 432x288 with 1 Axes>"
            ]
          },
          "metadata": {}
        }
      ]
    },
    {
      "cell_type": "code",
      "metadata": {
        "trusted": true,
        "id": "pSUeHC3Twjjg"
      },
      "source": [
        ""
      ],
      "execution_count": 110,
      "outputs": []
    }
  ]
}