{
  "nbformat": 4,
  "nbformat_minor": 0,
  "metadata": {
    "kernelspec": {
      "language": "python",
      "display_name": "Python 3",
      "name": "python3"
    },
    "language_info": {
      "pygments_lexer": "ipython3",
      "nbconvert_exporter": "python",
      "version": "3.6.4",
      "file_extension": ".py",
      "codemirror_mode": {
        "name": "ipython",
        "version": 3
      },
      "name": "python",
      "mimetype": "text/x-python"
    },
    "colab": {
      "name": "soft_biometrics2.ipynb",
      "provenance": [],
      "collapsed_sections": []
    },
    "accelerator": "GPU"
  },
  "cells": [
    {
      "cell_type": "markdown",
      "metadata": {
        "id": "MuEKPA-lwjjL"
      },
      "source": [
        "I will construct three model and use three targets:\n",
        "* Age\n",
        "* Gender\n",
        "* Ethnicity\n",
        "\n",
        "After training models I'm going to create a function which will predict these three parameters by photo."
      ]
    },
    {
      "cell_type": "code",
      "metadata": {
        "_cell_guid": "b1076dfc-b9ad-4769-8c92-a6c4dae69d19",
        "_uuid": "8f2839f25d086af736a60e9eeb907d3b93b6e0e5",
        "trusted": true,
        "id": "jjyOTQZnwjjO"
      },
      "source": [
        "import numpy as np \n",
        "import pandas as pd \n",
        "import matplotlib.pyplot as plt\n",
        "import seaborn as sns\n",
        "sns.set()\n",
        "\n",
        "from keras.models import Sequential\n",
        "from keras.layers import Conv2D, Dropout, BatchNormalization, Flatten, Dense, MaxPooling2D\n",
        "from tensorflow.keras.utils import to_categorical\n",
        "from keras.callbacks import EarlyStopping, ReduceLROnPlateau\n",
        "from tensorflow.keras.optimizers import Adam\n",
        "\n",
        "from sklearn.metrics import mean_absolute_error, confusion_matrix, classification_report\n",
        "from sklearn.model_selection import train_test_split"
      ],
      "execution_count": 2,
      "outputs": []
    },
    {
      "cell_type": "markdown",
      "metadata": {
        "id": "gggk_lTTwjjQ"
      },
      "source": [
        "So, there are three targets:\n",
        "\n",
        "Age: range from 1 to 116 <br>\n",
        "Ethnicity: 0 - White, 1 - Black, 2 - Asian, 3 - Indian, 4 - Other  <br>\n",
        "Gender: 0 - male, 1 - female <br>"
      ]
    },
    {
      "cell_type": "code",
      "metadata": {
        "_cell_guid": "79c7e3d0-c299-4dcb-8224-4455121ee9b0",
        "_uuid": "d629ff2d2480ee46fbb7e2d37f6b5fab8052498a",
        "trusted": true,
        "colab": {
          "base_uri": "https://localhost:8080/"
        },
        "id": "4RhFnOrcwjjQ",
        "outputId": "92048854-028b-4e0d-b48b-fe6aafb0ba0a"
      },
      "source": [
        "from google.colab import drive\n",
        "drive.mount('/content/drive')\n",
        "df = pd.read_csv('drive/MyDrive/datasets/age_gender.csv')"
      ],
      "execution_count": 3,
      "outputs": [
        {
          "output_type": "stream",
          "name": "stdout",
          "text": [
            "Mounted at /content/drive\n"
          ]
        }
      ]
    },
    {
      "cell_type": "code",
      "metadata": {
        "id": "m7alUK7axKK_"
      },
      "source": [
        ""
      ],
      "execution_count": 3,
      "outputs": []
    },
    {
      "cell_type": "code",
      "metadata": {
        "trusted": true,
        "colab": {
          "base_uri": "https://localhost:8080/",
          "height": 204
        },
        "id": "FHeJeEDCwjjR",
        "outputId": "b94f8f0c-c68b-4041-8e5f-9b1778d87e18"
      },
      "source": [
        "df.head()"
      ],
      "execution_count": 4,
      "outputs": [
        {
          "output_type": "execute_result",
          "data": {
            "text/html": [
              "<div>\n",
              "<style scoped>\n",
              "    .dataframe tbody tr th:only-of-type {\n",
              "        vertical-align: middle;\n",
              "    }\n",
              "\n",
              "    .dataframe tbody tr th {\n",
              "        vertical-align: top;\n",
              "    }\n",
              "\n",
              "    .dataframe thead th {\n",
              "        text-align: right;\n",
              "    }\n",
              "</style>\n",
              "<table border=\"1\" class=\"dataframe\">\n",
              "  <thead>\n",
              "    <tr style=\"text-align: right;\">\n",
              "      <th></th>\n",
              "      <th>age</th>\n",
              "      <th>ethnicity</th>\n",
              "      <th>gender</th>\n",
              "      <th>img_name</th>\n",
              "      <th>pixels</th>\n",
              "    </tr>\n",
              "  </thead>\n",
              "  <tbody>\n",
              "    <tr>\n",
              "      <th>0</th>\n",
              "      <td>1</td>\n",
              "      <td>2</td>\n",
              "      <td>0</td>\n",
              "      <td>20161219203650636.jpg.chip.jpg</td>\n",
              "      <td>129 128 128 126 127 130 133 135 139 142 145 14...</td>\n",
              "    </tr>\n",
              "    <tr>\n",
              "      <th>1</th>\n",
              "      <td>1</td>\n",
              "      <td>2</td>\n",
              "      <td>0</td>\n",
              "      <td>20161219222752047.jpg.chip.jpg</td>\n",
              "      <td>164 74 111 168 169 171 175 182 184 188 193 199...</td>\n",
              "    </tr>\n",
              "    <tr>\n",
              "      <th>2</th>\n",
              "      <td>1</td>\n",
              "      <td>2</td>\n",
              "      <td>0</td>\n",
              "      <td>20161219222832191.jpg.chip.jpg</td>\n",
              "      <td>67 70 71 70 69 67 70 79 90 103 116 132 145 155...</td>\n",
              "    </tr>\n",
              "    <tr>\n",
              "      <th>3</th>\n",
              "      <td>1</td>\n",
              "      <td>2</td>\n",
              "      <td>0</td>\n",
              "      <td>20161220144911423.jpg.chip.jpg</td>\n",
              "      <td>193 197 198 200 199 200 202 203 204 205 208 21...</td>\n",
              "    </tr>\n",
              "    <tr>\n",
              "      <th>4</th>\n",
              "      <td>1</td>\n",
              "      <td>2</td>\n",
              "      <td>0</td>\n",
              "      <td>20161220144914327.jpg.chip.jpg</td>\n",
              "      <td>202 205 209 210 209 209 210 211 212 214 218 21...</td>\n",
              "    </tr>\n",
              "  </tbody>\n",
              "</table>\n",
              "</div>"
            ],
            "text/plain": [
              "   age  ...                                             pixels\n",
              "0    1  ...  129 128 128 126 127 130 133 135 139 142 145 14...\n",
              "1    1  ...  164 74 111 168 169 171 175 182 184 188 193 199...\n",
              "2    1  ...  67 70 71 70 69 67 70 79 90 103 116 132 145 155...\n",
              "3    1  ...  193 197 198 200 199 200 202 203 204 205 208 21...\n",
              "4    1  ...  202 205 209 210 209 209 210 211 212 214 218 21...\n",
              "\n",
              "[5 rows x 5 columns]"
            ]
          },
          "metadata": {},
          "execution_count": 4
        }
      ]
    },
    {
      "cell_type": "code",
      "metadata": {
        "trusted": true,
        "colab": {
          "base_uri": "https://localhost:8080/",
          "height": 142
        },
        "id": "3RB8C82jwjjR",
        "outputId": "98ec11f4-78bc-4363-f14d-824ef2111a20"
      },
      "source": [
        "df.describe().transpose()"
      ],
      "execution_count": 5,
      "outputs": [
        {
          "output_type": "execute_result",
          "data": {
            "text/html": [
              "<div>\n",
              "<style scoped>\n",
              "    .dataframe tbody tr th:only-of-type {\n",
              "        vertical-align: middle;\n",
              "    }\n",
              "\n",
              "    .dataframe tbody tr th {\n",
              "        vertical-align: top;\n",
              "    }\n",
              "\n",
              "    .dataframe thead th {\n",
              "        text-align: right;\n",
              "    }\n",
              "</style>\n",
              "<table border=\"1\" class=\"dataframe\">\n",
              "  <thead>\n",
              "    <tr style=\"text-align: right;\">\n",
              "      <th></th>\n",
              "      <th>count</th>\n",
              "      <th>mean</th>\n",
              "      <th>std</th>\n",
              "      <th>min</th>\n",
              "      <th>25%</th>\n",
              "      <th>50%</th>\n",
              "      <th>75%</th>\n",
              "      <th>max</th>\n",
              "    </tr>\n",
              "  </thead>\n",
              "  <tbody>\n",
              "    <tr>\n",
              "      <th>age</th>\n",
              "      <td>23705.0</td>\n",
              "      <td>33.300907</td>\n",
              "      <td>19.885708</td>\n",
              "      <td>1.0</td>\n",
              "      <td>23.0</td>\n",
              "      <td>29.0</td>\n",
              "      <td>45.0</td>\n",
              "      <td>116.0</td>\n",
              "    </tr>\n",
              "    <tr>\n",
              "      <th>ethnicity</th>\n",
              "      <td>23705.0</td>\n",
              "      <td>1.269226</td>\n",
              "      <td>1.345638</td>\n",
              "      <td>0.0</td>\n",
              "      <td>0.0</td>\n",
              "      <td>1.0</td>\n",
              "      <td>2.0</td>\n",
              "      <td>4.0</td>\n",
              "    </tr>\n",
              "    <tr>\n",
              "      <th>gender</th>\n",
              "      <td>23705.0</td>\n",
              "      <td>0.477283</td>\n",
              "      <td>0.499494</td>\n",
              "      <td>0.0</td>\n",
              "      <td>0.0</td>\n",
              "      <td>0.0</td>\n",
              "      <td>1.0</td>\n",
              "      <td>1.0</td>\n",
              "    </tr>\n",
              "  </tbody>\n",
              "</table>\n",
              "</div>"
            ],
            "text/plain": [
              "             count       mean        std  min   25%   50%   75%    max\n",
              "age        23705.0  33.300907  19.885708  1.0  23.0  29.0  45.0  116.0\n",
              "ethnicity  23705.0   1.269226   1.345638  0.0   0.0   1.0   2.0    4.0\n",
              "gender     23705.0   0.477283   0.499494  0.0   0.0   0.0   1.0    1.0"
            ]
          },
          "metadata": {},
          "execution_count": 5
        }
      ]
    },
    {
      "cell_type": "code",
      "metadata": {
        "trusted": true,
        "colab": {
          "base_uri": "https://localhost:8080/",
          "height": 339
        },
        "id": "X2q6No08wjjS",
        "outputId": "a3d61503-f3bf-4fea-f1b1-5add7f8d9bd6"
      },
      "source": [
        "# Age\n",
        "sns.distplot(df['age']);"
      ],
      "execution_count": 6,
      "outputs": [
        {
          "output_type": "stream",
          "name": "stderr",
          "text": [
            "/usr/local/lib/python3.7/dist-packages/seaborn/distributions.py:2619: FutureWarning: `distplot` is a deprecated function and will be removed in a future version. Please adapt your code to use either `displot` (a figure-level function with similar flexibility) or `histplot` (an axes-level function for histograms).\n",
            "  warnings.warn(msg, FutureWarning)\n"
          ]
        },
        {
          "output_type": "display_data",
          "data": {
            "image/png": "[encoded data removed]",
            "text/plain": [
              "<Figure size 432x288 with 1 Axes>"
            ]
          },
          "metadata": {}
        }
      ]
    },
    {
      "cell_type": "code",
      "metadata": {
        "trusted": true,
        "colab": {
          "base_uri": "https://localhost:8080/",
          "height": 339
        },
        "id": "QrMJgPcewjjS",
        "outputId": "d88c4ad4-2d49-4268-f98b-ddafade5d241"
      },
      "source": [
        "# Ethnicity\n",
        "sns.countplot(df['ethnicity']);"
      ],
      "execution_count": 7,
      "outputs": [
        {
          "output_type": "stream",
          "name": "stderr",
          "text": [
            "/usr/local/lib/python3.7/dist-packages/seaborn/_decorators.py:43: FutureWarning: Pass the following variable as a keyword arg: x. From version 0.12, the only valid positional argument will be `data`, and passing other arguments without an explicit keyword will result in an error or misinterpretation.\n",
            "  FutureWarning\n"
          ]
        },
        {
          "output_type": "display_data",
          "data": {
            "image/png": "[encoded data removed]",
            "text/plain": [
              "<Figure size 432x288 with 1 Axes>"
            ]
          },
          "metadata": {}
        }
      ]
    },
    {
      "cell_type": "code",
      "metadata": {
        "trusted": true,
        "colab": {
          "base_uri": "https://localhost:8080/",
          "height": 339
        },
        "id": "icIfcbwOwjjT",
        "outputId": "876dbd09-c232-4d95-9590-ffc18d3e76a9"
      },
      "source": [
        "# Gender\n",
        "sns.countplot(df['gender']);"
      ],
      "execution_count": 8,
      "outputs": [
        {
          "output_type": "stream",
          "name": "stderr",
          "text": [
            "/usr/local/lib/python3.7/dist-packages/seaborn/_decorators.py:43: FutureWarning: Pass the following variable as a keyword arg: x. From version 0.12, the only valid positional argument will be `data`, and passing other arguments without an explicit keyword will result in an error or misinterpretation.\n",
            "  FutureWarning\n"
          ]
        },
        {
          "output_type": "display_data",
          "data": {
            "image/png": "[encoded data removed]",
            "text/plain": [
              "<Figure size 432x288 with 1 Axes>"
            ]
          },
          "metadata": {}
        }
      ]
    },
    {
      "cell_type": "markdown",
      "metadata": {
        "id": "3Vz6a-6awjjU"
      },
      "source": [
        "Actually imaeges in dataset are in string format, let's transform it in more useful type of data."
      ]
    },
    {
      "cell_type": "code",
      "metadata": {
        "trusted": true,
        "id": "krh8TO7kwjjU"
      },
      "source": [
        "df['pixels'] = df['pixels'].map(lambda x: np.array(x.split(' '), dtype=np.float32).reshape(48, 48))"
      ],
      "execution_count": 9,
      "outputs": []
    },
    {
      "cell_type": "code",
      "metadata": {
        "trusted": true,
        "colab": {
          "base_uri": "https://localhost:8080/",
          "height": 182
        },
        "id": "nNabufzmwjjV",
        "outputId": "f9a5ec0c-a2a9-495a-a697-bb8bfc6fe54c"
      },
      "source": [
        "# Plot some pictures\n",
        "fig, axes = plt.subplots(1, 5, figsize=(20, 10))\n",
        "\n",
        "for i in range(5):\n",
        "    random_face = np.random.choice(len(df))\n",
        "    \n",
        "    age = df['age'][random_face]\n",
        "    ethnicity = df['ethnicity'][random_face]\n",
        "    gender = df['gender'][random_face]\n",
        "    \n",
        "    axes[i].set_title('Age: {0}, Ethnicity: {1}, Sex: {2}'.format(age, ethnicity, gender))\n",
        "    axes[i].imshow(df['pixels'][random_face])\n",
        "    axes[i].axis('off')\n"
      ],
      "execution_count": 10,
      "outputs": [
        {
          "output_type": "display_data",
          "data": {
            "image/png": "[encoded data removed]",
            "text/plain": [
              "<Figure size 1440x720 with 5 Axes>"
            ]
          },
          "metadata": {}
        }
      ]
    },
    {
      "cell_type": "markdown",
      "metadata": {
        "id": "4hTHxv6JwjjV"
      },
      "source": [
        "## CNN"
      ]
    },
    {
      "cell_type": "code",
      "metadata": {
        "trusted": true,
        "id": "awuV4qYQwjjW"
      },
      "source": [
        "# Reshape images for CNN\n",
        "X = np.array(df['pixels'].to_list())\n",
        "X_reshaped = X.reshape(X.shape[0], 48, 48, 1)"
      ],
      "execution_count": 11,
      "outputs": []
    },
    {
      "cell_type": "code",
      "metadata": {
        "trusted": true,
        "id": "NdIkHgS6wjjW"
      },
      "source": [
        "# Normalise images\n",
        "if np.max(X_reshaped) > 1: X_reshaped = X_reshaped / 255"
      ],
      "execution_count": 12,
      "outputs": []
    },
    {
      "cell_type": "code",
      "metadata": {
        "trusted": true,
        "id": "gjf4-uapwjjW"
      },
      "source": [
        "# Set some useful variables\n",
        "input_shape = X_reshaped.shape[1:] \n",
        "\n",
        "n_epochs = 25\n",
        "batch_size = 64"
      ],
      "execution_count": 13,
      "outputs": []
    },
    {
      "cell_type": "markdown",
      "metadata": {
        "id": "6lkEAO7DwjjX"
      },
      "source": [
        "## Age prediction"
      ]
    },
    {
      "cell_type": "markdown",
      "metadata": {
        "id": "Dx2yCJDHwjjX"
      },
      "source": [
        "So let's start with age prediction. "
      ]
    },
    {
      "cell_type": "code",
      "metadata": {
        "trusted": true,
        "id": "LOBl0_SGwjjX"
      },
      "source": [
        "# Set y\n",
        "y = df['age'].values"
      ],
      "execution_count": 14,
      "outputs": []
    },
    {
      "cell_type": "code",
      "metadata": {
        "trusted": true,
        "id": "TbZpuztowjjX"
      },
      "source": [
        "# Train test split\n",
        "X_train, X_test, y_train, y_test = train_test_split(X_reshaped, y, test_size=0.2, random_state=42)"
      ],
      "execution_count": 15,
      "outputs": []
    },
    {
      "cell_type": "code",
      "metadata": {
        "trusted": true,
        "colab": {
          "base_uri": "https://localhost:8080/"
        },
        "id": "48QYirt6wjjY",
        "outputId": "8a0d0dd4-755c-49f8-e982-c68fd5a2147a"
      },
      "source": [
        "age_model = Sequential()\n",
        "\n",
        "age_model.add(Conv2D(64, kernel_size=(3,3), input_shape=input_shape, activation='relu'))\n",
        "age_model.add(MaxPooling2D(pool_size=(2,2)))\n",
        "age_model.add(BatchNormalization())\n",
        "\n",
        "age_model.add(Conv2D(128, kernel_size=(3,3), activation='relu', padding='same'))\n",
        "age_model.add(Conv2D(128, kernel_size=(3,3), activation='relu'))\n",
        "age_model.add(MaxPooling2D(pool_size=(2,2)))\n",
        "age_model.add(Dropout(0.3))\n",
        "age_model.add(BatchNormalization())\n",
        "\n",
        "age_model.add(Conv2D(256, kernel_size=(3,3), activation='relu', padding='same'))\n",
        "age_model.add(Conv2D(256, kernel_size=(3,3), activation='relu'))\n",
        "age_model.add(MaxPooling2D(pool_size=(2,2)))\n",
        "age_model.add(Dropout(0.3))\n",
        "age_model.add(BatchNormalization())\n",
        "\n",
        "age_model.add(Conv2D(512, kernel_size=(3,3), activation='relu', padding='same'))\n",
        "age_model.add(MaxPooling2D(pool_size=(2,2)))\n",
        "age_model.add(Dropout(0.5))\n",
        "age_model.add(BatchNormalization())\n",
        "\n",
        "age_model.add(Flatten())\n",
        "age_model.add(Dense(128, activation='relu'))\n",
        "age_model.add(Dropout(0.4))\n",
        "age_model.add(Dense(1))\n",
        "\n",
        "age_model.compile(optimizer='adam', loss='mse')\n",
        "\n",
        "age_model.summary()"
      ],
      "execution_count": 16,
      "outputs": [
        {
          "output_type": "stream",
          "name": "stdout",
          "text": [
            "Model: \"sequential\"\n",
            "_________________________________________________________________\n",
            "Layer (type)                 Output Shape              Param #   \n",
            "=================================================================\n",
            "conv2d (Conv2D)              (None, 46, 46, 64)        640       \n",
            "_________________________________________________________________\n",
            "max_pooling2d (MaxPooling2D) (None, 23, 23, 64)        0         \n",
            "_________________________________________________________________\n",
            "batch_normalization (BatchNo (None, 23, 23, 64)        256       \n",
            "_________________________________________________________________\n",
            "conv2d_1 (Conv2D)            (None, 23, 23, 128)       73856     \n",
            "_________________________________________________________________\n",
            "conv2d_2 (Conv2D)            (None, 21, 21, 128)       147584    \n",
            "_________________________________________________________________\n",
            "max_pooling2d_1 (MaxPooling2 (None, 10, 10, 128)       0         \n",
            "_________________________________________________________________\n",
            "dropout (Dropout)            (None, 10, 10, 128)       0         \n",
            "_________________________________________________________________\n",
            "batch_normalization_1 (Batch (None, 10, 10, 128)       512       \n",
            "_________________________________________________________________\n",
            "conv2d_3 (Conv2D)            (None, 10, 10, 256)       295168    \n",
            "_________________________________________________________________\n",
            "conv2d_4 (Conv2D)            (None, 8, 8, 256)         590080    \n",
            "_________________________________________________________________\n",
            "max_pooling2d_2 (MaxPooling2 (None, 4, 4, 256)         0         \n",
            "_________________________________________________________________\n",
            "dropout_1 (Dropout)          (None, 4, 4, 256)         0         \n",
            "_________________________________________________________________\n",
            "batch_normalization_2 (Batch (None, 4, 4, 256)         1024      \n",
            "_________________________________________________________________\n",
            "conv2d_5 (Conv2D)            (None, 4, 4, 512)         1180160   \n",
            "_________________________________________________________________\n",
            "max_pooling2d_3 (MaxPooling2 (None, 2, 2, 512)         0         \n",
            "_________________________________________________________________\n",
            "dropout_2 (Dropout)          (None, 2, 2, 512)         0         \n",
            "_________________________________________________________________\n",
            "batch_normalization_3 (Batch (None, 2, 2, 512)         2048      \n",
            "_________________________________________________________________\n",
            "flatten (Flatten)            (None, 2048)              0         \n",
            "_________________________________________________________________\n",
            "dense (Dense)                (None, 128)               262272    \n",
            "_________________________________________________________________\n",
            "dropout_3 (Dropout)          (None, 128)               0         \n",
            "_________________________________________________________________\n",
            "dense_1 (Dense)              (None, 1)                 129       \n",
            "=================================================================\n",
            "Total params: 2,553,729\n",
            "Trainable params: 2,551,809\n",
            "Non-trainable params: 1,920\n",
            "_________________________________________________________________\n"
          ]
        }
      ]
    },
    {
      "cell_type": "code",
      "metadata": {
        "trusted": true,
        "id": "dXvX2jG5wjjY"
      },
      "source": [
        "# Callbacks for age model\n",
        "callbacks = [EarlyStopping(patience=4, monitor='val_loss', mode='min'), \n",
        "             ReduceLROnPlateau(patience=2, verbose=1)]"
      ],
      "execution_count": 17,
      "outputs": []
    },
    {
      "cell_type": "code",
      "metadata": {
        "trusted": true,
        "colab": {
          "base_uri": "https://localhost:8080/"
        },
        "id": "E_xTiFe9wjjZ",
        "outputId": "1fede59c-05bd-41f7-9165-c3b9c3463d93"
      },
      "source": [
        "history = age_model.fit(X_train, y_train, \n",
        "                        epochs=n_epochs,\n",
        "                        batch_size=batch_size,\n",
        "                        callbacks=callbacks,\n",
        "                        validation_data=(X_test, y_test))"
      ],
      "execution_count": 18,
      "outputs": [
        {
          "output_type": "stream",
          "name": "stdout",
          "text": [
            "Epoch 1/25\n",
            "297/297 [==============================] - 49s 51ms/step - loss: 234.5353 - val_loss: 1506.1169\n",
            "Epoch 2/25\n",
            "297/297 [==============================] - 14s 49ms/step - loss: 140.3038 - val_loss: 293.9843\n",
            "Epoch 3/25\n",
            "297/297 [==============================] - 14s 49ms/step - loss: 124.4231 - val_loss: 349.4890\n",
            "Epoch 4/25\n",
            "297/297 [==============================] - 14s 48ms/step - loss: 115.4790 - val_loss: 223.4172\n",
            "Epoch 5/25\n",
            "297/297 [==============================] - 15s 49ms/step - loss: 102.2275 - val_loss: 186.8291\n",
            "Epoch 6/25\n",
            "297/297 [==============================] - 15s 49ms/step - loss: 97.5056 - val_loss: 122.2436\n",
            "Epoch 7/25\n",
            "297/297 [==============================] - 14s 49ms/step - loss: 92.2255 - val_loss: 98.8168\n",
            "Epoch 8/25\n",
            "297/297 [==============================] - 14s 49ms/step - loss: 87.5555 - val_loss: 140.5943\n",
            "Epoch 9/25\n",
            "297/297 [==============================] - 14s 49ms/step - loss: 81.0634 - val_loss: 97.5940\n",
            "Epoch 10/25\n",
            "297/297 [==============================] - 15s 49ms/step - loss: 76.8791 - val_loss: 90.2109\n",
            "Epoch 11/25\n",
            "297/297 [==============================] - 15s 49ms/step - loss: 75.0674 - val_loss: 100.3074\n",
            "Epoch 12/25\n",
            "297/297 [==============================] - 14s 49ms/step - loss: 72.6041 - val_loss: 77.3892\n",
            "Epoch 13/25\n",
            "297/297 [==============================] - 14s 49ms/step - loss: 68.6856 - val_loss: 132.4892\n",
            "Epoch 14/25\n",
            "297/297 [==============================] - 14s 48ms/step - loss: 65.1825 - val_loss: 358.1586\n",
            "\n",
            "Epoch 00014: ReduceLROnPlateau reducing learning rate to 0.00010000000474974513.\n",
            "Epoch 15/25\n",
            "297/297 [==============================] - 14s 49ms/step - loss: 56.0000 - val_loss: 63.2979\n",
            "Epoch 16/25\n",
            "297/297 [==============================] - 14s 49ms/step - loss: 52.6529 - val_loss: 62.8021\n",
            "Epoch 17/25\n",
            "297/297 [==============================] - 15s 49ms/step - loss: 49.6269 - val_loss: 64.1280\n",
            "Epoch 18/25\n",
            "297/297 [==============================] - 14s 48ms/step - loss: 49.1054 - val_loss: 81.2361\n",
            "\n",
            "Epoch 00018: ReduceLROnPlateau reducing learning rate to 1.0000000474974514e-05.\n",
            "Epoch 19/25\n",
            "297/297 [==============================] - 14s 49ms/step - loss: 47.8696 - val_loss: 62.5147\n",
            "Epoch 20/25\n",
            "297/297 [==============================] - 14s 49ms/step - loss: 46.4212 - val_loss: 61.4940\n",
            "Epoch 21/25\n",
            "297/297 [==============================] - 14s 49ms/step - loss: 46.3641 - val_loss: 61.6385\n",
            "Epoch 22/25\n",
            "297/297 [==============================] - 15s 49ms/step - loss: 46.8131 - val_loss: 61.4225\n",
            "Epoch 23/25\n",
            "297/297 [==============================] - 14s 49ms/step - loss: 45.2058 - val_loss: 61.5046\n",
            "Epoch 24/25\n",
            "297/297 [==============================] - 15s 49ms/step - loss: 45.8035 - val_loss: 61.8980\n",
            "\n",
            "Epoch 00024: ReduceLROnPlateau reducing learning rate to 1.0000000656873453e-06.\n",
            "Epoch 25/25\n",
            "297/297 [==============================] - 14s 48ms/step - loss: 46.7967 - val_loss: 61.1776\n"
          ]
        }
      ]
    },
    {
      "cell_type": "code",
      "metadata": {
        "trusted": true,
        "colab": {
          "base_uri": "https://localhost:8080/",
          "height": 268
        },
        "id": "trT5AhqBwjjZ",
        "outputId": "79c80022-4305-4f4f-a748-a17d0f4bb4b2"
      },
      "source": [
        "pd.DataFrame(history.history).plot();"
      ],
      "execution_count": 19,
      "outputs": [
        {
          "output_type": "display_data",
          "data": {
            "image/png": "[encoded data removed]",
            "text/plain": [
              "<Figure size 432x288 with 1 Axes>"
            ]
          },
          "metadata": {}
        }
      ]
    },
    {
      "cell_type": "code",
      "metadata": {
        "trusted": true,
        "colab": {
          "base_uri": "https://localhost:8080/"
        },
        "id": "Y7iZVxUywjjZ",
        "outputId": "905bbb67-d947-48b1-fb45-3d3c33cb9ffa"
      },
      "source": [
        "valid_score = age_model.evaluate(X_test, y_test, verbose=1)"
      ],
      "execution_count": 20,
      "outputs": [
        {
          "output_type": "stream",
          "name": "stdout",
          "text": [
            "149/149 [==============================] - 2s 10ms/step - loss: 61.1776\n"
          ]
        }
      ]
    },
    {
      "cell_type": "code",
      "metadata": {
        "trusted": true,
        "id": "ZhUoZWS1wjja"
      },
      "source": [
        "# Make predictions \n",
        "y_pred = age_model.predict(X_test)"
      ],
      "execution_count": 21,
      "outputs": []
    },
    {
      "cell_type": "code",
      "metadata": {
        "trusted": true,
        "colab": {
          "base_uri": "https://localhost:8080/"
        },
        "id": "GeA5S910wjja",
        "outputId": "3ad132b1-dd46-44c5-e222-7dd15d8b8e0e"
      },
      "source": [
        "# Man absolute error\n",
        "print(\"MAE: {}\".format(mean_absolute_error(y_test, y_pred)))"
      ],
      "execution_count": 22,
      "outputs": [
        {
          "output_type": "stream",
          "name": "stdout",
          "text": [
            "MAE: 5.470946032207391\n"
          ]
        }
      ]
    },
    {
      "cell_type": "code",
      "metadata": {
        "trusted": true,
        "colab": {
          "base_uri": "https://localhost:8080/",
          "height": 325
        },
        "id": "btfQwlwXwjja",
        "outputId": "ff7bdabf-fd97-40ff-f9d7-6f80b9f03d22"
      },
      "source": [
        "plt.figure(figsize=(8, 5))\n",
        "plt.scatter(y_pred, y_test);"
      ],
      "execution_count": 23,
      "outputs": [
        {
          "output_type": "display_data",
          "data": {
            "image/png": "[encoded data removed]",
            "text/plain": [
              "<Figure size 576x360 with 1 Axes>"
            ]
          },
          "metadata": {}
        }
      ]
    },
    {
      "cell_type": "markdown",
      "metadata": {
        "id": "5pHleOxxwjja"
      },
      "source": [
        "So, mean absolute error around 5.5 years it's not so super result considering mean age is 33, it's about 17%."
      ]
    },
    {
      "cell_type": "markdown",
      "metadata": {
        "id": "DpBtiTBAwjja"
      },
      "source": [
        "## Gender prediction"
      ]
    },
    {
      "cell_type": "code",
      "metadata": {
        "trusted": true,
        "id": "0Jlrgj4vwjjb"
      },
      "source": [
        "# Set y\n",
        "y = df['gender'].values\n",
        "\n",
        "# Train test split\n",
        "X_train, X_test, y_train, y_test = train_test_split(X_reshaped, y, test_size=0.2, random_state=42)"
      ],
      "execution_count": 24,
      "outputs": []
    },
    {
      "cell_type": "code",
      "metadata": {
        "trusted": true,
        "colab": {
          "base_uri": "https://localhost:8080/"
        },
        "id": "jTGlvivBwjjb",
        "outputId": "ccaccecd-1946-4700-e36c-89e40d24dfb1"
      },
      "source": [
        "gender_model = Sequential()\n",
        "\n",
        "gender_model.add(Conv2D(64, kernel_size=(3,3), input_shape=input_shape, activation='relu'))\n",
        "gender_model.add(MaxPooling2D(pool_size=(2,2)))\n",
        "gender_model.add(BatchNormalization())\n",
        "\n",
        "gender_model.add(Conv2D(128, kernel_size=(3,3), activation='relu'))\n",
        "#gender_model.add(Conv2D(128, kernel_size=(3,3), activation='relu'))\n",
        "gender_model.add(MaxPooling2D(pool_size=(2,2)))\n",
        "gender_model.add(Dropout(0.4))\n",
        "gender_model.add(BatchNormalization())\n",
        "\n",
        "gender_model.add(Conv2D(256, kernel_size=(3,3), activation='relu'))\n",
        "gender_model.add(Conv2D(256, kernel_size=(3,3), activation='relu'))\n",
        "gender_model.add(MaxPooling2D(pool_size=(2,2)))\n",
        "gender_model.add(Dropout(0.5))\n",
        "gender_model.add(BatchNormalization())\n",
        "\n",
        "gender_model.add(Flatten())\n",
        "\n",
        "gender_model.add(Dense(64, activation='relu'))\n",
        "gender_model.add(Dropout(0.4))\n",
        "\n",
        "gender_model.add(Dense(1, activation='sigmoid')) #For binary classification activation function is sigmoid \n",
        "\n",
        "gender_model.compile(optimizer='adam', loss='binary_crossentropy', metrics=['accuracy']) #...and loss function is binary_crossentropy\n",
        "\n",
        "gender_model.summary()"
      ],
      "execution_count": 25,
      "outputs": [
        {
          "output_type": "stream",
          "name": "stdout",
          "text": [
            "Model: \"sequential_1\"\n",
            "_________________________________________________________________\n",
            "Layer (type)                 Output Shape              Param #   \n",
            "=================================================================\n",
            "conv2d_6 (Conv2D)            (None, 46, 46, 64)        640       \n",
            "_________________________________________________________________\n",
            "max_pooling2d_4 (MaxPooling2 (None, 23, 23, 64)        0         \n",
            "_________________________________________________________________\n",
            "batch_normalization_4 (Batch (None, 23, 23, 64)        256       \n",
            "_________________________________________________________________\n",
            "conv2d_7 (Conv2D)            (None, 21, 21, 128)       73856     \n",
            "_________________________________________________________________\n",
            "max_pooling2d_5 (MaxPooling2 (None, 10, 10, 128)       0         \n",
            "_________________________________________________________________\n",
            "dropout_4 (Dropout)          (None, 10, 10, 128)       0         \n",
            "_________________________________________________________________\n",
            "batch_normalization_5 (Batch (None, 10, 10, 128)       512       \n",
            "_________________________________________________________________\n",
            "conv2d_8 (Conv2D)            (None, 8, 8, 256)         295168    \n",
            "_________________________________________________________________\n",
            "conv2d_9 (Conv2D)            (None, 6, 6, 256)         590080    \n",
            "_________________________________________________________________\n",
            "max_pooling2d_6 (MaxPooling2 (None, 3, 3, 256)         0         \n",
            "_________________________________________________________________\n",
            "dropout_5 (Dropout)          (None, 3, 3, 256)         0         \n",
            "_________________________________________________________________\n",
            "batch_normalization_6 (Batch (None, 3, 3, 256)         1024      \n",
            "_________________________________________________________________\n",
            "flatten_1 (Flatten)          (None, 2304)              0         \n",
            "_________________________________________________________________\n",
            "dense_2 (Dense)              (None, 64)                147520    \n",
            "_________________________________________________________________\n",
            "dropout_6 (Dropout)          (None, 64)                0         \n",
            "_________________________________________________________________\n",
            "dense_3 (Dense)              (None, 1)                 65        \n",
            "=================================================================\n",
            "Total params: 1,109,121\n",
            "Trainable params: 1,108,225\n",
            "Non-trainable params: 896\n",
            "_________________________________________________________________\n"
          ]
        }
      ]
    },
    {
      "cell_type": "code",
      "metadata": {
        "trusted": true,
        "id": "SBwSee8gwjjb"
      },
      "source": [
        "# Callbacks for gender model\n",
        "callbacks = [EarlyStopping(patience=4, monitor='val_accuracy', mode='max'), \n",
        "              ReduceLROnPlateau(patience=2, verbose=1)]"
      ],
      "execution_count": 26,
      "outputs": []
    },
    {
      "cell_type": "code",
      "metadata": {
        "trusted": true,
        "colab": {
          "base_uri": "https://localhost:8080/"
        },
        "id": "lcgcNV4Rwjjb",
        "outputId": "f216075e-a6f2-4cec-c369-068725fa699c"
      },
      "source": [
        "history = gender_model.fit(X_train, y_train, \n",
        "                           epochs=n_epochs,\n",
        "                           batch_size=batch_size,\n",
        "                           callbacks=callbacks,\n",
        "                           validation_data=(X_test, y_test))"
      ],
      "execution_count": 27,
      "outputs": [
        {
          "output_type": "stream",
          "name": "stdout",
          "text": [
            "Epoch 1/25\n",
            "297/297 [==============================] - 11s 31ms/step - loss: 0.5069 - accuracy: 0.7565 - val_loss: 0.9482 - val_accuracy: 0.5206\n",
            "Epoch 2/25\n",
            "297/297 [==============================] - 9s 30ms/step - loss: 0.3542 - accuracy: 0.8390 - val_loss: 0.4265 - val_accuracy: 0.8300\n",
            "Epoch 3/25\n",
            "297/297 [==============================] - 9s 30ms/step - loss: 0.3166 - accuracy: 0.8568 - val_loss: 0.3069 - val_accuracy: 0.8644\n",
            "Epoch 4/25\n",
            "297/297 [==============================] - 9s 30ms/step - loss: 0.2915 - accuracy: 0.8721 - val_loss: 0.2653 - val_accuracy: 0.8831\n",
            "Epoch 5/25\n",
            "297/297 [==============================] - 9s 30ms/step - loss: 0.2739 - accuracy: 0.8798 - val_loss: 0.2621 - val_accuracy: 0.8901\n",
            "Epoch 6/25\n",
            "297/297 [==============================] - 9s 30ms/step - loss: 0.2666 - accuracy: 0.8837 - val_loss: 0.2591 - val_accuracy: 0.8838\n",
            "Epoch 7/25\n",
            "297/297 [==============================] - 9s 30ms/step - loss: 0.2485 - accuracy: 0.8920 - val_loss: 0.3588 - val_accuracy: 0.8230\n",
            "Epoch 8/25\n",
            "297/297 [==============================] - 9s 30ms/step - loss: 0.2440 - accuracy: 0.8933 - val_loss: 0.2475 - val_accuracy: 0.8914\n",
            "Epoch 9/25\n",
            "297/297 [==============================] - 9s 32ms/step - loss: 0.2317 - accuracy: 0.8976 - val_loss: 0.2388 - val_accuracy: 0.8983\n",
            "Epoch 10/25\n",
            "297/297 [==============================] - 9s 30ms/step - loss: 0.2258 - accuracy: 0.9049 - val_loss: 0.2838 - val_accuracy: 0.8829\n",
            "Epoch 11/25\n",
            "297/297 [==============================] - 9s 30ms/step - loss: 0.2145 - accuracy: 0.9065 - val_loss: 0.2428 - val_accuracy: 0.8973\n",
            "\n",
            "Epoch 00011: ReduceLROnPlateau reducing learning rate to 0.00010000000474974513.\n",
            "Epoch 12/25\n",
            "297/297 [==============================] - 9s 30ms/step - loss: 0.1828 - accuracy: 0.9240 - val_loss: 0.2333 - val_accuracy: 0.9070\n",
            "Epoch 13/25\n",
            "297/297 [==============================] - 9s 30ms/step - loss: 0.1719 - accuracy: 0.9281 - val_loss: 0.2329 - val_accuracy: 0.9091\n",
            "Epoch 14/25\n",
            "297/297 [==============================] - 9s 30ms/step - loss: 0.1677 - accuracy: 0.9298 - val_loss: 0.2304 - val_accuracy: 0.9074\n",
            "Epoch 15/25\n",
            "297/297 [==============================] - 9s 30ms/step - loss: 0.1593 - accuracy: 0.9347 - val_loss: 0.2339 - val_accuracy: 0.9085\n",
            "Epoch 16/25\n",
            "297/297 [==============================] - 9s 30ms/step - loss: 0.1551 - accuracy: 0.9353 - val_loss: 0.2342 - val_accuracy: 0.9097\n",
            "\n",
            "Epoch 00016: ReduceLROnPlateau reducing learning rate to 1.0000000474974514e-05.\n",
            "Epoch 17/25\n",
            "297/297 [==============================] - 9s 30ms/step - loss: 0.1467 - accuracy: 0.9385 - val_loss: 0.2377 - val_accuracy: 0.9108\n",
            "Epoch 18/25\n",
            "297/297 [==============================] - 9s 30ms/step - loss: 0.1504 - accuracy: 0.9383 - val_loss: 0.2373 - val_accuracy: 0.9099\n",
            "\n",
            "Epoch 00018: ReduceLROnPlateau reducing learning rate to 1.0000000656873453e-06.\n",
            "Epoch 19/25\n",
            "297/297 [==============================] - 9s 30ms/step - loss: 0.1485 - accuracy: 0.9385 - val_loss: 0.2370 - val_accuracy: 0.9091\n",
            "Epoch 20/25\n",
            "297/297 [==============================] - 9s 30ms/step - loss: 0.1483 - accuracy: 0.9392 - val_loss: 0.2369 - val_accuracy: 0.9095\n",
            "\n",
            "Epoch 00020: ReduceLROnPlateau reducing learning rate to 1.0000001111620805e-07.\n",
            "Epoch 21/25\n",
            "297/297 [==============================] - 9s 30ms/step - loss: 0.1467 - accuracy: 0.9391 - val_loss: 0.2369 - val_accuracy: 0.9095\n"
          ]
        }
      ]
    },
    {
      "cell_type": "code",
      "metadata": {
        "id": "VCojz-MdqiF3",
        "colab": {
          "base_uri": "https://localhost:8080/",
          "height": 285
        },
        "outputId": "03c5be77-f166-4db0-e369-048ba57c1dc5"
      },
      "source": [
        "pd.DataFrame(history.history).plot()"
      ],
      "execution_count": 28,
      "outputs": [
        {
          "output_type": "execute_result",
          "data": {
            "text/plain": [
              "<matplotlib.axes._subplots.AxesSubplot at 0x7ff5606f6810>"
            ]
          },
          "metadata": {},
          "execution_count": 28
        },
        {
          "output_type": "display_data",
          "data": {
            "image/png": "[encoded data removed]",
            "text/plain": [
              "<Figure size 432x288 with 1 Axes>"
            ]
          },
          "metadata": {}
        }
      ]
    },
    {
      "cell_type": "code",
      "metadata": {
        "trusted": true,
        "colab": {
          "base_uri": "https://localhost:8080/"
        },
        "id": "JTwVP4oUwjjc",
        "outputId": "7af54612-9bf7-4a3a-ca60-6f92bf93851a"
      },
      "source": [
        "# Metrics\n",
        "valid_score = gender_model.evaluate(X_test, y_test, verbose=1)\n",
        "print('Accuracy for test set: {0}'.format(valid_score[1]))"
      ],
      "execution_count": 29,
      "outputs": [
        {
          "output_type": "stream",
          "name": "stdout",
          "text": [
            "149/149 [==============================] - 1s 7ms/step - loss: 0.2369 - accuracy: 0.9095\n",
            "Accuracy for test set: 0.9095127582550049\n"
          ]
        }
      ]
    },
    {
      "cell_type": "code",
      "metadata": {
        "trusted": true,
        "id": "H_qqVk2twjjc"
      },
      "source": [
        "y_pred=gender_model.predict(X_test) \n",
        "y_pred=np.argmax(y_pred,axis=1)\n"
      ],
      "execution_count": 30,
      "outputs": []
    },
    {
      "cell_type": "code",
      "metadata": {
        "trusted": true,
        "colab": {
          "base_uri": "https://localhost:8080/"
        },
        "id": "s4VkLXIWwjjc",
        "outputId": "99727503-595b-4012-8983-958e5e6a4eaa"
      },
      "source": [
        "print(classification_report(y_test, y_pred))"
      ],
      "execution_count": 31,
      "outputs": [
        {
          "output_type": "stream",
          "name": "stdout",
          "text": [
            "              precision    recall  f1-score   support\n",
            "\n",
            "           0       0.52      1.00      0.68      2468\n",
            "           1       0.00      0.00      0.00      2273\n",
            "\n",
            "    accuracy                           0.52      4741\n",
            "   macro avg       0.26      0.50      0.34      4741\n",
            "weighted avg       0.27      0.52      0.36      4741\n",
            "\n"
          ]
        },
        {
          "output_type": "stream",
          "name": "stderr",
          "text": [
            "/usr/local/lib/python3.7/dist-packages/sklearn/metrics/_classification.py:1272: UndefinedMetricWarning: Precision and F-score are ill-defined and being set to 0.0 in labels with no predicted samples. Use `zero_division` parameter to control this behavior.\n",
            "  _warn_prf(average, modifier, msg_start, len(result))\n"
          ]
        }
      ]
    },
    {
      "cell_type": "code",
      "metadata": {
        "trusted": true,
        "colab": {
          "base_uri": "https://localhost:8080/",
          "height": 268
        },
        "id": "XMQnmKwswjjc",
        "outputId": "b71143ed-0ba7-428b-d350-82d6b748b767"
      },
      "source": [
        "# Confusion matrix\n",
        "cm = confusion_matrix(y_test, y_pred)\n",
        "sns.heatmap(cm, cmap='Greens', cbar=False, annot=True, fmt='d');"
      ],
      "execution_count": 32,
      "outputs": [
        {
          "output_type": "display_data",
          "data": {
            "image/png": "[encoded data removed]",
            "text/plain": [
              "<Figure size 432x288 with 1 Axes>"
            ]
          },
          "metadata": {}
        }
      ]
    },
    {
      "cell_type": "markdown",
      "metadata": {
        "id": "sDaoTnzUwjjc"
      },
      "source": [
        "I suppose big part of this mistakes is children. Let's see some examples where's model had made mistake."
      ]
    },
    {
      "cell_type": "code",
      "metadata": {
        "trusted": true,
        "id": "FygbWQOswjjd"
      },
      "source": [
        "y_pred = y_pred.reshape(y_pred.shape[0])"
      ],
      "execution_count": 33,
      "outputs": []
    },
    {
      "cell_type": "code",
      "metadata": {
        "trusted": true,
        "colab": {
          "base_uri": "https://localhost:8080/",
          "height": 170
        },
        "id": "UDuOq3Q4wjjd",
        "outputId": "6d2682ec-30a1-4916-fd40-41160fb7449a"
      },
      "source": [
        "# Model predict is male, but actually it's female\n",
        "\n",
        "X_fn = X_test[(y_pred == 0) & (y_test == 1)]  \n",
        "\n",
        "fig, axes = plt.subplots(1, 5, figsize=(20, 10))\n",
        "\n",
        "for i in range(5):\n",
        "    \n",
        "    random_choice = np.random.choice(len(X_fn))\n",
        "    axes[i].imshow(X_fn[random_choice].reshape(48, 48))\n",
        "    axes[i].axis('off')"
      ],
      "execution_count": 34,
      "outputs": [
        {
          "output_type": "display_data",
          "data": {
            "image/png": "[encoded data removed]",
            "text/plain": [
              "<Figure size 1440x720 with 5 Axes>"
            ]
          },
          "metadata": {}
        }
      ]
    },
    {
      "cell_type": "markdown",
      "metadata": {
        "id": "n_JE0H5Twjjd"
      },
      "source": [
        "So, on many photos difference between genders are not so clear."
      ]
    },
    {
      "cell_type": "markdown",
      "metadata": {
        "id": "ErP4cpjxwjjd"
      },
      "source": [
        "## Ethnicity prediction"
      ]
    },
    {
      "cell_type": "code",
      "metadata": {
        "trusted": true,
        "id": "u6NyW0h8wjjd"
      },
      "source": [
        "# Set y\n",
        "y = df['ethnicity'].values\n",
        "\n",
        "# Multiclass problem transform to one_hot_encoding\n",
        "y = to_categorical(y, 5)\n",
        "\n",
        "# Train test split\n",
        "X_train, X_test, y_train, y_test = train_test_split(X_reshaped, y, test_size=0.2, random_state=42)"
      ],
      "execution_count": 35,
      "outputs": []
    },
    {
      "cell_type": "code",
      "metadata": {
        "trusted": true,
        "colab": {
          "base_uri": "https://localhost:8080/"
        },
        "id": "17HoPfm8wjje",
        "outputId": "af22d6ea-64a7-4423-c19d-9cb2bbe31a81"
      },
      "source": [
        "eth_model = Sequential()\n",
        "\n",
        "eth_model.add(Conv2D(64, kernel_size=(3,3), input_shape=input_shape, activation='relu'))\n",
        "eth_model.add(MaxPooling2D(pool_size=(2,2)))\n",
        "eth_model.add(BatchNormalization())\n",
        "\n",
        "eth_model.add(Conv2D(128, kernel_size=(3,3), activation='relu'))\n",
        "eth_model.add(MaxPooling2D(pool_size=(2,2)))\n",
        "eth_model.add(BatchNormalization())\n",
        "\n",
        "eth_model.add(Conv2D(256, kernel_size=(3,3), activation='relu'))\n",
        "eth_model.add(MaxPooling2D(pool_size=(2,2)))\n",
        "eth_model.add(Dropout(0.5))\n",
        "eth_model.add(BatchNormalization())\n",
        "\n",
        "eth_model.add(Flatten())\n",
        "eth_model.add(Dense(128, activation='relu'))\n",
        "eth_model.add(Dropout(0.5))\n",
        "eth_model.add(Dense(5, activation='softmax')) #For multiclass classification activation function is softmax \n",
        "\n",
        "eth_model.compile(optimizer='adam', loss='categorical_crossentropy', metrics=['accuracy']) #...and loss function is categorical_crossentropy\n",
        "\n",
        "eth_model.summary()"
      ],
      "execution_count": 36,
      "outputs": [
        {
          "output_type": "stream",
          "name": "stdout",
          "text": [
            "Model: \"sequential_2\"\n",
            "_________________________________________________________________\n",
            "Layer (type)                 Output Shape              Param #   \n",
            "=================================================================\n",
            "conv2d_10 (Conv2D)           (None, 46, 46, 64)        640       \n",
            "_________________________________________________________________\n",
            "max_pooling2d_7 (MaxPooling2 (None, 23, 23, 64)        0         \n",
            "_________________________________________________________________\n",
            "batch_normalization_7 (Batch (None, 23, 23, 64)        256       \n",
            "_________________________________________________________________\n",
            "conv2d_11 (Conv2D)           (None, 21, 21, 128)       73856     \n",
            "_________________________________________________________________\n",
            "max_pooling2d_8 (MaxPooling2 (None, 10, 10, 128)       0         \n",
            "_________________________________________________________________\n",
            "batch_normalization_8 (Batch (None, 10, 10, 128)       512       \n",
            "_________________________________________________________________\n",
            "conv2d_12 (Conv2D)           (None, 8, 8, 256)         295168    \n",
            "_________________________________________________________________\n",
            "max_pooling2d_9 (MaxPooling2 (None, 4, 4, 256)         0         \n",
            "_________________________________________________________________\n",
            "dropout_7 (Dropout)          (None, 4, 4, 256)         0         \n",
            "_________________________________________________________________\n",
            "batch_normalization_9 (Batch (None, 4, 4, 256)         1024      \n",
            "_________________________________________________________________\n",
            "flatten_2 (Flatten)          (None, 4096)              0         \n",
            "_________________________________________________________________\n",
            "dense_4 (Dense)              (None, 128)               524416    \n",
            "_________________________________________________________________\n",
            "dropout_8 (Dropout)          (None, 128)               0         \n",
            "_________________________________________________________________\n",
            "dense_5 (Dense)              (None, 5)                 645       \n",
            "=================================================================\n",
            "Total params: 896,517\n",
            "Trainable params: 895,621\n",
            "Non-trainable params: 896\n",
            "_________________________________________________________________\n"
          ]
        }
      ]
    },
    {
      "cell_type": "code",
      "metadata": {
        "trusted": true,
        "id": "jO79SQmxwjje"
      },
      "source": [
        "# Callbacks for ethnicity model\n",
        "callbacks = [EarlyStopping(patience=4, monitor='val_accuracy', mode='max'), \n",
        "             ReduceLROnPlateau(patience=2, verbose=1)]"
      ],
      "execution_count": 37,
      "outputs": []
    },
    {
      "cell_type": "code",
      "metadata": {
        "trusted": true,
        "colab": {
          "base_uri": "https://localhost:8080/"
        },
        "id": "n24XkVuXwjje",
        "outputId": "c8b9de5f-5b36-49b8-bccb-da4949233a96"
      },
      "source": [
        "history = eth_model.fit(X_train, y_train, \n",
        "                         epochs=n_epochs,\n",
        "                         batch_size=batch_size,\n",
        "                         callbacks=callbacks,\n",
        "                         validation_data=(X_test, y_test))"
      ],
      "execution_count": 38,
      "outputs": [
        {
          "output_type": "stream",
          "name": "stdout",
          "text": [
            "Epoch 1/25\n",
            "297/297 [==============================] - 9s 26ms/step - loss: 1.1944 - accuracy: 0.5622 - val_loss: 3.0576 - val_accuracy: 0.4318\n",
            "Epoch 2/25\n",
            "297/297 [==============================] - 7s 25ms/step - loss: 0.9088 - accuracy: 0.6809 - val_loss: 1.3684 - val_accuracy: 0.5478\n",
            "Epoch 3/25\n",
            "297/297 [==============================] - 7s 25ms/step - loss: 0.8269 - accuracy: 0.7120 - val_loss: 0.8095 - val_accuracy: 0.6973\n",
            "Epoch 4/25\n",
            "297/297 [==============================] - 7s 25ms/step - loss: 0.7649 - accuracy: 0.7358 - val_loss: 0.7744 - val_accuracy: 0.7174\n",
            "Epoch 5/25\n",
            "297/297 [==============================] - 7s 25ms/step - loss: 0.7105 - accuracy: 0.7542 - val_loss: 0.7925 - val_accuracy: 0.7304\n",
            "Epoch 6/25\n",
            "297/297 [==============================] - 7s 25ms/step - loss: 0.6702 - accuracy: 0.7695 - val_loss: 0.7309 - val_accuracy: 0.7460\n",
            "Epoch 7/25\n",
            "297/297 [==============================] - 8s 25ms/step - loss: 0.6347 - accuracy: 0.7811 - val_loss: 0.6900 - val_accuracy: 0.7469\n",
            "Epoch 8/25\n",
            "297/297 [==============================] - 8s 25ms/step - loss: 0.6021 - accuracy: 0.7911 - val_loss: 0.6744 - val_accuracy: 0.7570\n",
            "Epoch 9/25\n",
            "297/297 [==============================] - 8s 26ms/step - loss: 0.5730 - accuracy: 0.8030 - val_loss: 0.6508 - val_accuracy: 0.7701\n",
            "Epoch 10/25\n",
            "297/297 [==============================] - 8s 25ms/step - loss: 0.5504 - accuracy: 0.8106 - val_loss: 0.6641 - val_accuracy: 0.7783\n",
            "Epoch 11/25\n",
            "297/297 [==============================] - 7s 25ms/step - loss: 0.5150 - accuracy: 0.8192 - val_loss: 0.6205 - val_accuracy: 0.7924\n",
            "Epoch 12/25\n",
            "297/297 [==============================] - 7s 24ms/step - loss: 0.4961 - accuracy: 0.8245 - val_loss: 0.7411 - val_accuracy: 0.7216\n",
            "Epoch 13/25\n",
            "297/297 [==============================] - 7s 24ms/step - loss: 0.4676 - accuracy: 0.8346 - val_loss: 0.6913 - val_accuracy: 0.7813\n",
            "\n",
            "Epoch 00013: ReduceLROnPlateau reducing learning rate to 0.00010000000474974513.\n",
            "Epoch 14/25\n",
            "297/297 [==============================] - 7s 24ms/step - loss: 0.3909 - accuracy: 0.8606 - val_loss: 0.5933 - val_accuracy: 0.8104\n",
            "Epoch 15/25\n",
            "297/297 [==============================] - 7s 24ms/step - loss: 0.3618 - accuracy: 0.8711 - val_loss: 0.5769 - val_accuracy: 0.8076\n",
            "Epoch 16/25\n",
            "297/297 [==============================] - 7s 24ms/step - loss: 0.3396 - accuracy: 0.8783 - val_loss: 0.5858 - val_accuracy: 0.8154\n",
            "Epoch 17/25\n",
            "297/297 [==============================] - 7s 24ms/step - loss: 0.3194 - accuracy: 0.8850 - val_loss: 0.5987 - val_accuracy: 0.8123\n",
            "\n",
            "Epoch 00017: ReduceLROnPlateau reducing learning rate to 1.0000000474974514e-05.\n",
            "Epoch 18/25\n",
            "297/297 [==============================] - 7s 24ms/step - loss: 0.3017 - accuracy: 0.8902 - val_loss: 0.5944 - val_accuracy: 0.8127\n",
            "Epoch 19/25\n",
            "297/297 [==============================] - 7s 24ms/step - loss: 0.3044 - accuracy: 0.8899 - val_loss: 0.5961 - val_accuracy: 0.8121\n",
            "\n",
            "Epoch 00019: ReduceLROnPlateau reducing learning rate to 1.0000000656873453e-06.\n",
            "Epoch 20/25\n",
            "297/297 [==============================] - 7s 24ms/step - loss: 0.3031 - accuracy: 0.8907 - val_loss: 0.5961 - val_accuracy: 0.8127\n"
          ]
        }
      ]
    },
    {
      "cell_type": "code",
      "metadata": {
        "trusted": true,
        "colab": {
          "base_uri": "https://localhost:8080/"
        },
        "id": "sQpLn5UKwjje",
        "outputId": "81e71bb3-780c-4136-9d49-c1339d2961c9"
      },
      "source": [
        "valid_score = eth_model.evaluate(X_test, y_test, verbose=1)"
      ],
      "execution_count": 39,
      "outputs": [
        {
          "output_type": "stream",
          "name": "stdout",
          "text": [
            "149/149 [==============================] - 1s 8ms/step - loss: 0.5961 - accuracy: 0.8127\n"
          ]
        }
      ]
    },
    {
      "cell_type": "code",
      "metadata": {
        "trusted": true,
        "id": "PFvnBz_Gwjje"
      },
      "source": [
        "y_pred=eth_model.predict(X_test) \n",
        "y_pred=np.argmax(y_pred,axis=1)\n"
      ],
      "execution_count": 40,
      "outputs": []
    },
    {
      "cell_type": "code",
      "metadata": {
        "trusted": true,
        "id": "_WSZO5kDwjjf"
      },
      "source": [
        "# Convert to 0 to 4 scale \n",
        "y_test_labels = [np.argmax(i) for i in y_test]"
      ],
      "execution_count": 41,
      "outputs": []
    },
    {
      "cell_type": "code",
      "metadata": {
        "trusted": true,
        "colab": {
          "base_uri": "https://localhost:8080/"
        },
        "id": "NSscIAGawjjf",
        "outputId": "a9ab91d0-6706-44dc-ef75-3846a86db1f0"
      },
      "source": [
        "print(classification_report(y_test_labels, y_pred))"
      ],
      "execution_count": 42,
      "outputs": [
        {
          "output_type": "stream",
          "name": "stdout",
          "text": [
            "              precision    recall  f1-score   support\n",
            "\n",
            "           0       0.85      0.89      0.87      2047\n",
            "           1       0.86      0.84      0.85       904\n",
            "           2       0.85      0.87      0.86       657\n",
            "           3       0.74      0.79      0.76       804\n",
            "           4       0.39      0.22      0.28       329\n",
            "\n",
            "    accuracy                           0.81      4741\n",
            "   macro avg       0.74      0.72      0.72      4741\n",
            "weighted avg       0.80      0.81      0.80      4741\n",
            "\n"
          ]
        }
      ]
    },
    {
      "cell_type": "code",
      "metadata": {
        "trusted": true,
        "colab": {
          "base_uri": "https://localhost:8080/",
          "height": 268
        },
        "id": "4lZUHhPGwjjf",
        "outputId": "bf9ad94c-2016-4378-d322-b4591e504967"
      },
      "source": [
        "# Confusion matrix\n",
        "cm = confusion_matrix(y_test_labels, y_pred)\n",
        "\n",
        "np.fill_diagonal(cm, 0) #Fill diagonal with 0 for better visualisation\n",
        "sns.heatmap(cm, annot=True, fmt='d', cbar=False, cmap='Greens');"
      ],
      "execution_count": 43,
      "outputs": [
        {
          "output_type": "display_data",
          "data": {
            "image/png": "[encoded data removed]",
            "text/plain": [
              "<Figure size 432x288 with 1 Axes>"
            ]
          },
          "metadata": {}
        }
      ]
    },
    {
      "cell_type": "code",
      "metadata": {
        "trusted": true,
        "id": "t-qQpjiewjjf"
      },
      "source": [
        "def face_prediction(image):\n",
        "    \n",
        "    x = image.reshape(1, 48, 48, 1)\n",
        "    x = x / 255\n",
        "\n",
        "    \n",
        "    a2=gender_model.predict(x) \n",
        "    a2=np.argmax(a2,axis=1)\n",
        "\n",
        "    \n",
        "    a3=eth_model.predict(x) \n",
        "    a3=np.argmax(a3,axis=1)\n",
        "\n",
        "    \n",
        "    age_predict = int(age_model.predict(x))\n",
        "    gender_predict = int(a2)\n",
        "    ethnicity_predict = int(a3)\n",
        "\n",
        "    a2=gender_model.predict(x) \n",
        "    a2=np.argmax(a2,axis=1)\n",
        "\n",
        "\n",
        "\n",
        "    \n",
        "    gender = {0: 'Male', 1: 'Female'}\n",
        "    eth_group = {0: 'White', 1: 'Black', 2: 'Asian', 3: 'Indian', 4: 'Other'} \n",
        "    \n",
        "    plt.imshow(image)\n",
        "    plt.title('{0}, {1}, {2}'.format(age_predict, gender[gender_predict], eth_group[ethnicity_predict]))\n",
        "    plt.axis('off')"
      ],
      "execution_count": 44,
      "outputs": []
    },
    {
      "cell_type": "code",
      "metadata": {
        "trusted": true,
        "colab": {
          "base_uri": "https://localhost:8080/",
          "height": 264
        },
        "id": "BwGHBZyMwjjf",
        "outputId": "8819c1fa-6ae5-4345-f2bb-eeeae83648e4"
      },
      "source": [
        "# Final check\n",
        "random_face = np.random.choice(len(df))\n",
        "\n",
        "age = df['age'][random_face]\n",
        "ethnicity = df['ethnicity'][random_face]\n",
        "gender = df['gender'][random_face]\n",
        "\n",
        "plt.imshow(df['pixels'][random_face])\n",
        "plt.title('Age: {0}, Sex: {1}, Ethnicity: {2},'.format(age, gender, ethnicity))\n",
        "plt.axis('off');"
      ],
      "execution_count": 45,
      "outputs": [
        {
          "output_type": "display_data",
          "data": {
            "image/png": "[encoded data removed]",
            "text/plain": [
              "<Figure size 432x288 with 1 Axes>"
            ]
          },
          "metadata": {}
        }
      ]
    },
    {
      "cell_type": "code",
      "metadata": {
        "trusted": true,
        "colab": {
          "base_uri": "https://localhost:8080/",
          "height": 264
        },
        "id": "NhNULwarwjjg",
        "outputId": "9f74fedb-756d-45d4-8053-9b669a638063"
      },
      "source": [
        "# Model prediction \n",
        "face_prediction(df['pixels'][random_face])"
      ],
      "execution_count": 46,
      "outputs": [
        {
          "output_type": "display_data",
          "data": {
            "image/png": "[encoded data removed]",
            "text/plain": [
              "<Figure size 432x288 with 1 Axes>"
            ]
          },
          "metadata": {}
        }
      ]
    },
    {
      "cell_type": "code",
      "metadata": {
        "trusted": true,
        "id": "pSUeHC3Twjjg"
      },
      "source": [
        ""
      ],
      "execution_count": 46,
      "outputs": []
    }
  ]
}